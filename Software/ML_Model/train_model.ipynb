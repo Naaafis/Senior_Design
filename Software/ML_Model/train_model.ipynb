{
 "cells": [
  {
   "cell_type": "markdown",
   "metadata": {},
   "source": [
    "### Classifying Urban sounds using Deep Learning"
   ]
  },
  {
   "cell_type": "markdown",
   "metadata": {},
   "source": [
    "#### Dependencies"
   ]
  },
  {
   "cell_type": "code",
   "execution_count": 2,
   "metadata": {},
   "outputs": [
    {
     "ename": "SyntaxError",
     "evalue": "invalid syntax (2630967554.py, line 4)",
     "output_type": "error",
     "traceback": [
      "\u001b[0;36m  Input \u001b[0;32mIn [2]\u001b[0;36m\u001b[0m\n\u001b[0;31m    conda install -n -c conda-forge -y librosa\u001b[0m\n\u001b[0m          ^\u001b[0m\n\u001b[0;31mSyntaxError\u001b[0m\u001b[0;31m:\u001b[0m invalid syntax\n"
     ]
    }
   ],
   "source": [
    "# Only run these if you selected SageMaker approach\n",
    "#!pip3 install --upgrade pip\n",
    "#!pip3 install -r requirements.txt\n",
    "conda install -n -c conda-forge -y librosa"
   ]
  },
  {
   "cell_type": "code",
   "execution_count": 1,
   "metadata": {},
   "outputs": [
    {
     "ename": "ValueError",
     "evalue": "The python kernel does not appear to be a conda environment.  Please use ``%pip install`` instead.",
     "output_type": "error",
     "traceback": [
      "\u001b[0;31m---------------------------------------------------------------------------\u001b[0m",
      "\u001b[0;31mValueError\u001b[0m                                Traceback (most recent call last)",
      "Input \u001b[0;32mIn [1]\u001b[0m, in \u001b[0;36m<cell line: 1>\u001b[0;34m()\u001b[0m\n\u001b[0;32m----> 1\u001b[0m \u001b[43mget_ipython\u001b[49m\u001b[43m(\u001b[49m\u001b[43m)\u001b[49m\u001b[38;5;241;43m.\u001b[39;49m\u001b[43mrun_line_magic\u001b[49m\u001b[43m(\u001b[49m\u001b[38;5;124;43m'\u001b[39;49m\u001b[38;5;124;43mconda\u001b[39;49m\u001b[38;5;124;43m'\u001b[39;49m\u001b[43m,\u001b[49m\u001b[43m \u001b[49m\u001b[38;5;124;43m'\u001b[39;49m\u001b[38;5;124;43minstall  -c conda-forge -y librosa\u001b[39;49m\u001b[38;5;124;43m'\u001b[39;49m\u001b[43m)\u001b[49m\n",
      "File \u001b[0;32m/usr/local/Cellar/jupyterlab/3.3.2/libexec/lib/python3.9/site-packages/IPython/core/interactiveshell.py:2285\u001b[0m, in \u001b[0;36mInteractiveShell.run_line_magic\u001b[0;34m(self, magic_name, line, _stack_depth)\u001b[0m\n\u001b[1;32m   2283\u001b[0m     kwargs[\u001b[38;5;124m'\u001b[39m\u001b[38;5;124mlocal_ns\u001b[39m\u001b[38;5;124m'\u001b[39m] \u001b[38;5;241m=\u001b[39m \u001b[38;5;28mself\u001b[39m\u001b[38;5;241m.\u001b[39mget_local_scope(stack_depth)\n\u001b[1;32m   2284\u001b[0m \u001b[38;5;28;01mwith\u001b[39;00m \u001b[38;5;28mself\u001b[39m\u001b[38;5;241m.\u001b[39mbuiltin_trap:\n\u001b[0;32m-> 2285\u001b[0m     result \u001b[38;5;241m=\u001b[39m \u001b[43mfn\u001b[49m\u001b[43m(\u001b[49m\u001b[38;5;241;43m*\u001b[39;49m\u001b[43margs\u001b[49m\u001b[43m,\u001b[49m\u001b[43m \u001b[49m\u001b[38;5;241;43m*\u001b[39;49m\u001b[38;5;241;43m*\u001b[39;49m\u001b[43mkwargs\u001b[49m\u001b[43m)\u001b[49m\n\u001b[1;32m   2286\u001b[0m \u001b[38;5;28;01mreturn\u001b[39;00m result\n",
      "File \u001b[0;32m/usr/local/Cellar/jupyterlab/3.3.2/libexec/lib/python3.9/site-packages/IPython/core/magics/packaging.py:87\u001b[0m, in \u001b[0;36mPackagingMagics.conda\u001b[0;34m(self, line)\u001b[0m\n\u001b[1;32m     81\u001b[0m \u001b[38;5;124;03m\"\"\"Run the conda package manager within the current kernel.\u001b[39;00m\n\u001b[1;32m     82\u001b[0m \n\u001b[1;32m     83\u001b[0m \u001b[38;5;124;03mUsage:\u001b[39;00m\n\u001b[1;32m     84\u001b[0m \u001b[38;5;124;03m  %conda install [pkgs]\u001b[39;00m\n\u001b[1;32m     85\u001b[0m \u001b[38;5;124;03m\"\"\"\u001b[39;00m\n\u001b[1;32m     86\u001b[0m \u001b[38;5;28;01mif\u001b[39;00m \u001b[38;5;129;01mnot\u001b[39;00m _is_conda_environment():\n\u001b[0;32m---> 87\u001b[0m     \u001b[38;5;28;01mraise\u001b[39;00m \u001b[38;5;167;01mValueError\u001b[39;00m(\u001b[38;5;124m\"\u001b[39m\u001b[38;5;124mThe python kernel does not appear to be a conda environment.  \u001b[39m\u001b[38;5;124m\"\u001b[39m\n\u001b[1;32m     88\u001b[0m                      \u001b[38;5;124m\"\u001b[39m\u001b[38;5;124mPlease use ``\u001b[39m\u001b[38;5;124m%\u001b[39m\u001b[38;5;124mpip install`` instead.\u001b[39m\u001b[38;5;124m\"\u001b[39m)\n\u001b[1;32m     90\u001b[0m conda \u001b[38;5;241m=\u001b[39m _get_conda_executable()\n\u001b[1;32m     91\u001b[0m args \u001b[38;5;241m=\u001b[39m shlex\u001b[38;5;241m.\u001b[39msplit(line)\n",
      "\u001b[0;31mValueError\u001b[0m: The python kernel does not appear to be a conda environment.  Please use ``%pip install`` instead."
     ]
    }
   ],
   "source": [
    "conda install  -c conda-forge -y librosa"
   ]
  },
  {
   "cell_type": "markdown",
   "metadata": {},
   "source": [
    "#### Visualizing Audio"
   ]
  },
  {
   "cell_type": "code",
   "execution_count": 2,
   "metadata": {},
   "outputs": [
    {
     "ename": "ModuleNotFoundError",
     "evalue": "No module named 'librosa'",
     "output_type": "error",
     "traceback": [
      "\u001b[0;31m---------------------------------------------------------------------------\u001b[0m",
      "\u001b[0;31mModuleNotFoundError\u001b[0m                       Traceback (most recent call last)",
      "Input \u001b[0;32mIn [2]\u001b[0m, in \u001b[0;36m<cell line: 2>\u001b[0;34m()\u001b[0m\n\u001b[1;32m      1\u001b[0m \u001b[38;5;28;01mimport\u001b[39;00m \u001b[38;5;21;01mIPython\u001b[39;00m\u001b[38;5;21;01m.\u001b[39;00m\u001b[38;5;21;01mdisplay\u001b[39;00m \u001b[38;5;28;01mas\u001b[39;00m \u001b[38;5;21;01mipd\u001b[39;00m\n\u001b[0;32m----> 2\u001b[0m \u001b[38;5;28;01mimport\u001b[39;00m \u001b[38;5;21;01mlibrosa\u001b[39;00m\n\u001b[1;32m      3\u001b[0m \u001b[38;5;28;01mimport\u001b[39;00m \u001b[38;5;21;01mlibrosa\u001b[39;00m\u001b[38;5;21;01m.\u001b[39;00m\u001b[38;5;21;01mdisplay\u001b[39;00m\n\u001b[1;32m      4\u001b[0m \u001b[38;5;28;01mimport\u001b[39;00m \u001b[38;5;21;01mmatplotlib\u001b[39;00m\u001b[38;5;21;01m.\u001b[39;00m\u001b[38;5;21;01mpyplot\u001b[39;00m \u001b[38;5;28;01mas\u001b[39;00m \u001b[38;5;21;01mplt\u001b[39;00m\n",
      "\u001b[0;31mModuleNotFoundError\u001b[0m: No module named 'librosa'"
     ]
    }
   ],
   "source": [
    "import IPython.display as ipd\n",
    "import librosa\n",
    "import librosa.display\n",
    "import matplotlib.pyplot as plt\n",
    "\n",
    "filename = './audio/fold1/a0001.wav'\n",
    "plt.figure(figsize=(12,4))\n",
    "data,sample_rate = librosa.load(filename)\n",
    "_ = librosa.display.waveshow(data,sr=sample_rate)\n",
    "ipd.Audio(filename)"
   ]
  },
  {
   "cell_type": "markdown",
   "metadata": {},
   "source": [
    "#### Download & Unzip Dataset"
   ]
  },
  {
   "cell_type": "code",
   "execution_count": 8,
   "metadata": {},
   "outputs": [
    {
     "name": "stdout",
     "output_type": "stream",
     "text": [
      "fatal error: An error occurred (403) when calling the HeadObject operation: Forbidden\n",
      "tar: Error opening archive: Failed to open './model/UrbanSound8K.tar.gz'\n"
     ]
    }
   ],
   "source": [
    "# You will need to download this dataset yourself. Unfortunately this guide uses the\n",
    "# 2014 dataset (and not the updated one). Google and look for the dataset that is ~6GB.\n",
    "!aws s3 cp s3://devopstar/resources/dog-bark-detection/UrbanSound8K.tar.gz ./model/UrbanSound8K.tar.gz\n",
    "!tar -xf ./model/UrbanSound8K.tar.gz -C ./model/"
   ]
  },
  {
   "cell_type": "markdown",
   "metadata": {},
   "source": [
    "#### Load Dataset"
   ]
  },
  {
   "cell_type": "code",
   "execution_count": 9,
   "metadata": {},
   "outputs": [],
   "source": [
    "import librosa\n",
    "import numpy as np\n",
    "\n",
    "def extract_features(file_name):\n",
    "   \n",
    "    try:\n",
    "        audio, sample_rate = librosa.load(file_name, res_type='kaiser_fast') \n",
    "        mfccs = librosa.feature.mfcc(y=audio, sr=sample_rate, n_mfcc=40)\n",
    "        mfccsscaled = np.mean(mfccs.T,axis=0)\n",
    "        \n",
    "    except Exception as e:\n",
    "        print(\"Error encountered while parsing file: \", file_name)\n",
    "        return None \n",
    "     \n",
    "    return mfccsscaled"
   ]
  },
  {
   "cell_type": "code",
   "execution_count": 10,
   "metadata": {},
   "outputs": [
    {
     "name": "stdout",
     "output_type": "stream",
     "text": [
      "Requirement already satisfied: pandas in /Users/cheffbcookin/miniconda3/lib/python3.9/site-packages (1.3.4)\n",
      "Requirement already satisfied: pytz>=2017.3 in /Users/cheffbcookin/miniconda3/lib/python3.9/site-packages (from pandas) (2021.3)\n",
      "Requirement already satisfied: python-dateutil>=2.7.3 in /Users/cheffbcookin/miniconda3/lib/python3.9/site-packages (from pandas) (2.8.2)\n",
      "Requirement already satisfied: numpy>=1.17.3 in /Users/cheffbcookin/miniconda3/lib/python3.9/site-packages (from pandas) (1.20.3)\n",
      "Requirement already satisfied: six>=1.5 in /Users/cheffbcookin/miniconda3/lib/python3.9/site-packages (from python-dateutil>=2.7.3->pandas) (1.16.0)\n",
      "Note: you may need to restart the kernel to use updated packages.\n"
     ]
    }
   ],
   "source": [
    "pip install pandas"
   ]
  },
  {
   "cell_type": "code",
   "execution_count": 11,
   "metadata": {},
   "outputs": [
    {
     "name": "stderr",
     "output_type": "stream",
     "text": [
      "/Users/cheffbcookin/miniconda3/lib/python3.9/site-packages/librosa/util/decorators.py:88: UserWarning: PySoundFile failed. Trying audioread instead.\n",
      "  return f(*args, **kwargs)\n"
     ]
    },
    {
     "name": "stdout",
     "output_type": "stream",
     "text": [
      "Error encountered while parsing file:  /Users/cheffbcookin/Downloads/Bark8K/audio/fold1.0/a0001.wav\n",
      "Error encountered while parsing file:  /Users/cheffbcookin/Downloads/Bark8K/audio/fold1.0/a0002.wav\n",
      "Error encountered while parsing file:  /Users/cheffbcookin/Downloads/Bark8K/audio/fold1.0/a0004.wav\n",
      "Error encountered while parsing file:  /Users/cheffbcookin/Downloads/Bark8K/audio/fold1.0/a0005.wav\n",
      "Error encountered while parsing file:  /Users/cheffbcookin/Downloads/Bark8K/audio/fold1.0/a0006.wav\n",
      "Error encountered while parsing file:  /Users/cheffbcookin/Downloads/Bark8K/audio/fold1.0/a0007.wav\n",
      "Error encountered while parsing file:  /Users/cheffbcookin/Downloads/Bark8K/audio/fold1.0/a0008.wav\n"
     ]
    },
    {
     "name": "stderr",
     "output_type": "stream",
     "text": [
      "/Users/cheffbcookin/miniconda3/lib/python3.9/site-packages/librosa/util/decorators.py:88: UserWarning: PySoundFile failed. Trying audioread instead.\n",
      "  return f(*args, **kwargs)\n",
      "/Users/cheffbcookin/miniconda3/lib/python3.9/site-packages/librosa/util/decorators.py:88: UserWarning: PySoundFile failed. Trying audioread instead.\n",
      "  return f(*args, **kwargs)\n",
      "/Users/cheffbcookin/miniconda3/lib/python3.9/site-packages/librosa/util/decorators.py:88: UserWarning: PySoundFile failed. Trying audioread instead.\n",
      "  return f(*args, **kwargs)\n",
      "/Users/cheffbcookin/miniconda3/lib/python3.9/site-packages/librosa/util/decorators.py:88: UserWarning: PySoundFile failed. Trying audioread instead.\n",
      "  return f(*args, **kwargs)\n",
      "/Users/cheffbcookin/miniconda3/lib/python3.9/site-packages/librosa/util/decorators.py:88: UserWarning: PySoundFile failed. Trying audioread instead.\n",
      "  return f(*args, **kwargs)\n",
      "/Users/cheffbcookin/miniconda3/lib/python3.9/site-packages/librosa/util/decorators.py:88: UserWarning: PySoundFile failed. Trying audioread instead.\n",
      "  return f(*args, **kwargs)\n",
      "/Users/cheffbcookin/miniconda3/lib/python3.9/site-packages/librosa/util/decorators.py:88: UserWarning: PySoundFile failed. Trying audioread instead.\n",
      "  return f(*args, **kwargs)\n"
     ]
    },
    {
     "name": "stdout",
     "output_type": "stream",
     "text": [
      "Error encountered while parsing file:  /Users/cheffbcookin/Downloads/Bark8K/audio/fold1.0/a0009.wav\n",
      "Error encountered while parsing file:  /Users/cheffbcookin/Downloads/Bark8K/audio/fold1.0/a0010.wav\n",
      "Error encountered while parsing file:  /Users/cheffbcookin/Downloads/Bark8K/audio/fold1.0/a0011.wav\n",
      "Error encountered while parsing file:  /Users/cheffbcookin/Downloads/Bark8K/audio/fold1.0/a0012.wav\n",
      "Error encountered while parsing file:  /Users/cheffbcookin/Downloads/Bark8K/audio/fold1.0/a0014.wav\n",
      "Error encountered while parsing file:  /Users/cheffbcookin/Downloads/Bark8K/audio/fold1.0/a0015.wav\n",
      "Error encountered while parsing file:  /Users/cheffbcookin/Downloads/Bark8K/audio/fold1.0/a0016.wav\n",
      "Error encountered while parsing file:  /Users/cheffbcookin/Downloads/Bark8K/audio/fold1.0/a0017.wav\n"
     ]
    },
    {
     "name": "stderr",
     "output_type": "stream",
     "text": [
      "/Users/cheffbcookin/miniconda3/lib/python3.9/site-packages/librosa/util/decorators.py:88: UserWarning: PySoundFile failed. Trying audioread instead.\n",
      "  return f(*args, **kwargs)\n",
      "/Users/cheffbcookin/miniconda3/lib/python3.9/site-packages/librosa/util/decorators.py:88: UserWarning: PySoundFile failed. Trying audioread instead.\n",
      "  return f(*args, **kwargs)\n",
      "/Users/cheffbcookin/miniconda3/lib/python3.9/site-packages/librosa/util/decorators.py:88: UserWarning: PySoundFile failed. Trying audioread instead.\n",
      "  return f(*args, **kwargs)\n",
      "/Users/cheffbcookin/miniconda3/lib/python3.9/site-packages/librosa/util/decorators.py:88: UserWarning: PySoundFile failed. Trying audioread instead.\n",
      "  return f(*args, **kwargs)\n",
      "/Users/cheffbcookin/miniconda3/lib/python3.9/site-packages/librosa/util/decorators.py:88: UserWarning: PySoundFile failed. Trying audioread instead.\n",
      "  return f(*args, **kwargs)\n",
      "/Users/cheffbcookin/miniconda3/lib/python3.9/site-packages/librosa/util/decorators.py:88: UserWarning: PySoundFile failed. Trying audioread instead.\n",
      "  return f(*args, **kwargs)\n",
      "/Users/cheffbcookin/miniconda3/lib/python3.9/site-packages/librosa/util/decorators.py:88: UserWarning: PySoundFile failed. Trying audioread instead.\n",
      "  return f(*args, **kwargs)\n",
      "/Users/cheffbcookin/miniconda3/lib/python3.9/site-packages/librosa/util/decorators.py:88: UserWarning: PySoundFile failed. Trying audioread instead.\n",
      "  return f(*args, **kwargs)\n"
     ]
    },
    {
     "name": "stdout",
     "output_type": "stream",
     "text": [
      "Error encountered while parsing file:  /Users/cheffbcookin/Downloads/Bark8K/audio/fold1.0/a0018.wav\n",
      "Error encountered while parsing file:  /Users/cheffbcookin/Downloads/Bark8K/audio/fold1.0/a0019.wav\n",
      "Error encountered while parsing file:  /Users/cheffbcookin/Downloads/Bark8K/audio/fold1.0/a0020.wav\n",
      "Error encountered while parsing file:  /Users/cheffbcookin/Downloads/Bark8K/audio/fold1.0/a0021.wav\n",
      "Error encountered while parsing file:  /Users/cheffbcookin/Downloads/Bark8K/audio/fold1.0/a0022.wav\n",
      "Error encountered while parsing file:  /Users/cheffbcookin/Downloads/Bark8K/audio/fold1.0/a0023.wav\n",
      "Error encountered while parsing file:  /Users/cheffbcookin/Downloads/Bark8K/audio/fold1.0/a0024.wav\n",
      "Error encountered while parsing file:  /Users/cheffbcookin/Downloads/Bark8K/audio/fold1.0/a0025.wav\n"
     ]
    },
    {
     "name": "stderr",
     "output_type": "stream",
     "text": [
      "/Users/cheffbcookin/miniconda3/lib/python3.9/site-packages/librosa/util/decorators.py:88: UserWarning: PySoundFile failed. Trying audioread instead.\n",
      "  return f(*args, **kwargs)\n",
      "/Users/cheffbcookin/miniconda3/lib/python3.9/site-packages/librosa/util/decorators.py:88: UserWarning: PySoundFile failed. Trying audioread instead.\n",
      "  return f(*args, **kwargs)\n",
      "/Users/cheffbcookin/miniconda3/lib/python3.9/site-packages/librosa/util/decorators.py:88: UserWarning: PySoundFile failed. Trying audioread instead.\n",
      "  return f(*args, **kwargs)\n",
      "/Users/cheffbcookin/miniconda3/lib/python3.9/site-packages/librosa/util/decorators.py:88: UserWarning: PySoundFile failed. Trying audioread instead.\n",
      "  return f(*args, **kwargs)\n",
      "/Users/cheffbcookin/miniconda3/lib/python3.9/site-packages/librosa/util/decorators.py:88: UserWarning: PySoundFile failed. Trying audioread instead.\n",
      "  return f(*args, **kwargs)\n",
      "/Users/cheffbcookin/miniconda3/lib/python3.9/site-packages/librosa/util/decorators.py:88: UserWarning: PySoundFile failed. Trying audioread instead.\n",
      "  return f(*args, **kwargs)\n",
      "/Users/cheffbcookin/miniconda3/lib/python3.9/site-packages/librosa/util/decorators.py:88: UserWarning: PySoundFile failed. Trying audioread instead.\n",
      "  return f(*args, **kwargs)\n",
      "/Users/cheffbcookin/miniconda3/lib/python3.9/site-packages/librosa/util/decorators.py:88: UserWarning: PySoundFile failed. Trying audioread instead.\n",
      "  return f(*args, **kwargs)\n"
     ]
    },
    {
     "name": "stdout",
     "output_type": "stream",
     "text": [
      "Error encountered while parsing file:  /Users/cheffbcookin/Downloads/Bark8K/audio/fold1.0/a0026.wav\n",
      "Error encountered while parsing file:  /Users/cheffbcookin/Downloads/Bark8K/audio/fold1.0/a0027.wav\n",
      "Error encountered while parsing file:  /Users/cheffbcookin/Downloads/Bark8K/audio/fold1.0/a0028.wav\n",
      "Error encountered while parsing file:  /Users/cheffbcookin/Downloads/Bark8K/audio/fold1.0/a0029.wav\n",
      "Error encountered while parsing file:  /Users/cheffbcookin/Downloads/Bark8K/audio/fold1.0/a0030.wav\n",
      "Error encountered while parsing file:  /Users/cheffbcookin/Downloads/Bark8K/audio/fold1.0/a0031.wav\n",
      "Error encountered while parsing file:  /Users/cheffbcookin/Downloads/Bark8K/audio/fold1.0/a0032.wav\n",
      "Error encountered while parsing file:  /Users/cheffbcookin/Downloads/Bark8K/audio/fold1.0/a0033.wav\n"
     ]
    },
    {
     "name": "stderr",
     "output_type": "stream",
     "text": [
      "/Users/cheffbcookin/miniconda3/lib/python3.9/site-packages/librosa/util/decorators.py:88: UserWarning: PySoundFile failed. Trying audioread instead.\n",
      "  return f(*args, **kwargs)\n",
      "/Users/cheffbcookin/miniconda3/lib/python3.9/site-packages/librosa/util/decorators.py:88: UserWarning: PySoundFile failed. Trying audioread instead.\n",
      "  return f(*args, **kwargs)\n",
      "/Users/cheffbcookin/miniconda3/lib/python3.9/site-packages/librosa/util/decorators.py:88: UserWarning: PySoundFile failed. Trying audioread instead.\n",
      "  return f(*args, **kwargs)\n",
      "/Users/cheffbcookin/miniconda3/lib/python3.9/site-packages/librosa/util/decorators.py:88: UserWarning: PySoundFile failed. Trying audioread instead.\n",
      "  return f(*args, **kwargs)\n",
      "/Users/cheffbcookin/miniconda3/lib/python3.9/site-packages/librosa/util/decorators.py:88: UserWarning: PySoundFile failed. Trying audioread instead.\n",
      "  return f(*args, **kwargs)\n",
      "/Users/cheffbcookin/miniconda3/lib/python3.9/site-packages/librosa/util/decorators.py:88: UserWarning: PySoundFile failed. Trying audioread instead.\n",
      "  return f(*args, **kwargs)\n",
      "/Users/cheffbcookin/miniconda3/lib/python3.9/site-packages/librosa/util/decorators.py:88: UserWarning: PySoundFile failed. Trying audioread instead.\n",
      "  return f(*args, **kwargs)\n",
      "/Users/cheffbcookin/miniconda3/lib/python3.9/site-packages/librosa/util/decorators.py:88: UserWarning: PySoundFile failed. Trying audioread instead.\n",
      "  return f(*args, **kwargs)\n"
     ]
    },
    {
     "name": "stdout",
     "output_type": "stream",
     "text": [
      "Error encountered while parsing file:  /Users/cheffbcookin/Downloads/Bark8K/audio/fold1.0/a0034.wav\n",
      "Error encountered while parsing file:  /Users/cheffbcookin/Downloads/Bark8K/audio/fold1.0/a0035.wav\n",
      "Error encountered while parsing file:  /Users/cheffbcookin/Downloads/Bark8K/audio/fold1.0/a0036.wav\n",
      "Error encountered while parsing file:  /Users/cheffbcookin/Downloads/Bark8K/audio/fold1.0/a0037.wav\n",
      "Error encountered while parsing file:  /Users/cheffbcookin/Downloads/Bark8K/audio/fold1.0/a0039.wav\n",
      "Error encountered while parsing file:  /Users/cheffbcookin/Downloads/Bark8K/audio/fold1.0/a0040.wav\n",
      "Error encountered while parsing file:  /Users/cheffbcookin/Downloads/Bark8K/audio/fold1.0/a0041.wav\n",
      "Error encountered while parsing file:  /Users/cheffbcookin/Downloads/Bark8K/audio/fold1.0/a0042.wav\n"
     ]
    },
    {
     "name": "stderr",
     "output_type": "stream",
     "text": [
      "/Users/cheffbcookin/miniconda3/lib/python3.9/site-packages/librosa/util/decorators.py:88: UserWarning: PySoundFile failed. Trying audioread instead.\n",
      "  return f(*args, **kwargs)\n",
      "/Users/cheffbcookin/miniconda3/lib/python3.9/site-packages/librosa/util/decorators.py:88: UserWarning: PySoundFile failed. Trying audioread instead.\n",
      "  return f(*args, **kwargs)\n",
      "/Users/cheffbcookin/miniconda3/lib/python3.9/site-packages/librosa/util/decorators.py:88: UserWarning: PySoundFile failed. Trying audioread instead.\n",
      "  return f(*args, **kwargs)\n",
      "/Users/cheffbcookin/miniconda3/lib/python3.9/site-packages/librosa/util/decorators.py:88: UserWarning: PySoundFile failed. Trying audioread instead.\n",
      "  return f(*args, **kwargs)\n",
      "/Users/cheffbcookin/miniconda3/lib/python3.9/site-packages/librosa/util/decorators.py:88: UserWarning: PySoundFile failed. Trying audioread instead.\n",
      "  return f(*args, **kwargs)\n",
      "/Users/cheffbcookin/miniconda3/lib/python3.9/site-packages/librosa/util/decorators.py:88: UserWarning: PySoundFile failed. Trying audioread instead.\n",
      "  return f(*args, **kwargs)\n",
      "/Users/cheffbcookin/miniconda3/lib/python3.9/site-packages/librosa/util/decorators.py:88: UserWarning: PySoundFile failed. Trying audioread instead.\n",
      "  return f(*args, **kwargs)\n",
      "/Users/cheffbcookin/miniconda3/lib/python3.9/site-packages/librosa/util/decorators.py:88: UserWarning: PySoundFile failed. Trying audioread instead.\n",
      "  return f(*args, **kwargs)\n"
     ]
    },
    {
     "name": "stdout",
     "output_type": "stream",
     "text": [
      "Error encountered while parsing file:  /Users/cheffbcookin/Downloads/Bark8K/audio/fold1.0/a0043.wav\n",
      "Error encountered while parsing file:  /Users/cheffbcookin/Downloads/Bark8K/audio/fold2.0/a0044.wav\n",
      "Error encountered while parsing file:  /Users/cheffbcookin/Downloads/Bark8K/audio/fold2.0/a0045.wav\n",
      "Error encountered while parsing file:  /Users/cheffbcookin/Downloads/Bark8K/audio/fold2.0/a0046.wav\n",
      "Error encountered while parsing file:  /Users/cheffbcookin/Downloads/Bark8K/audio/fold2.0/a0047.wav\n",
      "Error encountered while parsing file:  /Users/cheffbcookin/Downloads/Bark8K/audio/fold2.0/a0048.wav\n",
      "Error encountered while parsing file:  /Users/cheffbcookin/Downloads/Bark8K/audio/fold2.0/a0049.wav\n",
      "Error encountered while parsing file:  /Users/cheffbcookin/Downloads/Bark8K/audio/fold2.0/a0050.wav\n",
      "Error encountered while parsing file:  /Users/cheffbcookin/Downloads/Bark8K/audio/fold2.0/a0051.wav"
     ]
    },
    {
     "name": "stderr",
     "output_type": "stream",
     "text": [
      "/Users/cheffbcookin/miniconda3/lib/python3.9/site-packages/librosa/util/decorators.py:88: UserWarning: PySoundFile failed. Trying audioread instead.\n",
      "  return f(*args, **kwargs)\n",
      "/Users/cheffbcookin/miniconda3/lib/python3.9/site-packages/librosa/util/decorators.py:88: UserWarning: PySoundFile failed. Trying audioread instead.\n",
      "  return f(*args, **kwargs)\n",
      "/Users/cheffbcookin/miniconda3/lib/python3.9/site-packages/librosa/util/decorators.py:88: UserWarning: PySoundFile failed. Trying audioread instead.\n",
      "  return f(*args, **kwargs)\n",
      "/Users/cheffbcookin/miniconda3/lib/python3.9/site-packages/librosa/util/decorators.py:88: UserWarning: PySoundFile failed. Trying audioread instead.\n",
      "  return f(*args, **kwargs)\n",
      "/Users/cheffbcookin/miniconda3/lib/python3.9/site-packages/librosa/util/decorators.py:88: UserWarning: PySoundFile failed. Trying audioread instead.\n",
      "  return f(*args, **kwargs)\n",
      "/Users/cheffbcookin/miniconda3/lib/python3.9/site-packages/librosa/util/decorators.py:88: UserWarning: PySoundFile failed. Trying audioread instead.\n",
      "  return f(*args, **kwargs)\n",
      "/Users/cheffbcookin/miniconda3/lib/python3.9/site-packages/librosa/util/decorators.py:88: UserWarning: PySoundFile failed. Trying audioread instead.\n",
      "  return f(*args, **kwargs)\n",
      "/Users/cheffbcookin/miniconda3/lib/python3.9/site-packages/librosa/util/decorators.py:88: UserWarning: PySoundFile failed. Trying audioread instead.\n",
      "  return f(*args, **kwargs)\n",
      "/Users/cheffbcookin/miniconda3/lib/python3.9/site-packages/librosa/util/decorators.py:88: UserWarning: PySoundFile failed. Trying audioread instead.\n",
      "  return f(*args, **kwargs)\n"
     ]
    },
    {
     "name": "stdout",
     "output_type": "stream",
     "text": [
      "\n",
      "Error encountered while parsing file:  /Users/cheffbcookin/Downloads/Bark8K/audio/fold2.0/a0052.wav\n",
      "Error encountered while parsing file:  /Users/cheffbcookin/Downloads/Bark8K/audio/fold2.0/a0053.wav\n",
      "Error encountered while parsing file:  /Users/cheffbcookin/Downloads/Bark8K/audio/fold2.0/a0054.wav\n",
      "Error encountered while parsing file:  /Users/cheffbcookin/Downloads/Bark8K/audio/fold2.0/a0055.wav\n",
      "Error encountered while parsing file:  /Users/cheffbcookin/Downloads/Bark8K/audio/fold2.0/a0056.wav\n",
      "Error encountered while parsing file:  /Users/cheffbcookin/Downloads/Bark8K/audio/fold2.0/a0057.wav\n"
     ]
    },
    {
     "name": "stderr",
     "output_type": "stream",
     "text": [
      "/Users/cheffbcookin/miniconda3/lib/python3.9/site-packages/librosa/util/decorators.py:88: UserWarning: PySoundFile failed. Trying audioread instead.\n",
      "  return f(*args, **kwargs)\n",
      "/Users/cheffbcookin/miniconda3/lib/python3.9/site-packages/librosa/util/decorators.py:88: UserWarning: PySoundFile failed. Trying audioread instead.\n",
      "  return f(*args, **kwargs)\n",
      "/Users/cheffbcookin/miniconda3/lib/python3.9/site-packages/librosa/util/decorators.py:88: UserWarning: PySoundFile failed. Trying audioread instead.\n",
      "  return f(*args, **kwargs)\n",
      "/Users/cheffbcookin/miniconda3/lib/python3.9/site-packages/librosa/util/decorators.py:88: UserWarning: PySoundFile failed. Trying audioread instead.\n",
      "  return f(*args, **kwargs)\n",
      "/Users/cheffbcookin/miniconda3/lib/python3.9/site-packages/librosa/util/decorators.py:88: UserWarning: PySoundFile failed. Trying audioread instead.\n",
      "  return f(*args, **kwargs)\n",
      "/Users/cheffbcookin/miniconda3/lib/python3.9/site-packages/librosa/util/decorators.py:88: UserWarning: PySoundFile failed. Trying audioread instead.\n",
      "  return f(*args, **kwargs)\n"
     ]
    },
    {
     "name": "stdout",
     "output_type": "stream",
     "text": [
      "Error encountered while parsing file:  /Users/cheffbcookin/Downloads/Bark8K/audio/fold2.0/a0058.wav\n",
      "Error encountered while parsing file:  /Users/cheffbcookin/Downloads/Bark8K/audio/fold2.0/a0059.wav\n",
      "Error encountered while parsing file:  /Users/cheffbcookin/Downloads/Bark8K/audio/fold2.0/a0060.wav\n",
      "Error encountered while parsing file:  /Users/cheffbcookin/Downloads/Bark8K/audio/fold2.0/a0061.wav\n",
      "Error encountered while parsing file:  /Users/cheffbcookin/Downloads/Bark8K/audio/fold2.0/a0062.wav\n",
      "Error encountered while parsing file:  /Users/cheffbcookin/Downloads/Bark8K/audio/fold2.0/a0063.wav\n",
      "Error encountered while parsing file:  /Users/cheffbcookin/Downloads/Bark8K/audio/fold2.0/a0064.wav\n",
      "Error encountered while parsing file:  /Users/cheffbcookin/Downloads/Bark8K/audio/fold2.0/a0065.wav\n"
     ]
    },
    {
     "name": "stderr",
     "output_type": "stream",
     "text": [
      "/Users/cheffbcookin/miniconda3/lib/python3.9/site-packages/librosa/util/decorators.py:88: UserWarning: PySoundFile failed. Trying audioread instead.\n",
      "  return f(*args, **kwargs)\n",
      "/Users/cheffbcookin/miniconda3/lib/python3.9/site-packages/librosa/util/decorators.py:88: UserWarning: PySoundFile failed. Trying audioread instead.\n",
      "  return f(*args, **kwargs)\n",
      "/Users/cheffbcookin/miniconda3/lib/python3.9/site-packages/librosa/util/decorators.py:88: UserWarning: PySoundFile failed. Trying audioread instead.\n",
      "  return f(*args, **kwargs)\n",
      "/Users/cheffbcookin/miniconda3/lib/python3.9/site-packages/librosa/util/decorators.py:88: UserWarning: PySoundFile failed. Trying audioread instead.\n",
      "  return f(*args, **kwargs)\n",
      "/Users/cheffbcookin/miniconda3/lib/python3.9/site-packages/librosa/util/decorators.py:88: UserWarning: PySoundFile failed. Trying audioread instead.\n",
      "  return f(*args, **kwargs)\n",
      "/Users/cheffbcookin/miniconda3/lib/python3.9/site-packages/librosa/util/decorators.py:88: UserWarning: PySoundFile failed. Trying audioread instead.\n",
      "  return f(*args, **kwargs)\n",
      "/Users/cheffbcookin/miniconda3/lib/python3.9/site-packages/librosa/util/decorators.py:88: UserWarning: PySoundFile failed. Trying audioread instead.\n",
      "  return f(*args, **kwargs)\n",
      "/Users/cheffbcookin/miniconda3/lib/python3.9/site-packages/librosa/util/decorators.py:88: UserWarning: PySoundFile failed. Trying audioread instead.\n",
      "  return f(*args, **kwargs)\n"
     ]
    },
    {
     "name": "stdout",
     "output_type": "stream",
     "text": [
      "Error encountered while parsing file:  /Users/cheffbcookin/Downloads/Bark8K/audio/fold2.0/a0066.wav\n",
      "Error encountered while parsing file:  /Users/cheffbcookin/Downloads/Bark8K/audio/fold2.0/a0067.wav\n",
      "Error encountered while parsing file:  /Users/cheffbcookin/Downloads/Bark8K/audio/fold2.0/a0068.wav\n",
      "Error encountered while parsing file:  /Users/cheffbcookin/Downloads/Bark8K/audio/fold2.0/a0069.wav\n",
      "Error encountered while parsing file:  /Users/cheffbcookin/Downloads/Bark8K/audio/fold2.0/a0070.wav\n",
      "Error encountered while parsing file:  /Users/cheffbcookin/Downloads/Bark8K/audio/fold2.0/a0071.wav\n",
      "Error encountered while parsing file:  /Users/cheffbcookin/Downloads/Bark8K/audio/fold2.0/a0072.wav\n",
      "Error encountered while parsing file:  /Users/cheffbcookin/Downloads/Bark8K/audio/fold2.0/a0073.wav\n",
      "Error encountered while parsing file:  /Users/cheffbcookin/Downloads/Bark8K/audio/fold2.0/a0074.wav\n"
     ]
    },
    {
     "name": "stderr",
     "output_type": "stream",
     "text": [
      "/Users/cheffbcookin/miniconda3/lib/python3.9/site-packages/librosa/util/decorators.py:88: UserWarning: PySoundFile failed. Trying audioread instead.\n",
      "  return f(*args, **kwargs)\n",
      "/Users/cheffbcookin/miniconda3/lib/python3.9/site-packages/librosa/util/decorators.py:88: UserWarning: PySoundFile failed. Trying audioread instead.\n",
      "  return f(*args, **kwargs)\n",
      "/Users/cheffbcookin/miniconda3/lib/python3.9/site-packages/librosa/util/decorators.py:88: UserWarning: PySoundFile failed. Trying audioread instead.\n",
      "  return f(*args, **kwargs)\n",
      "/Users/cheffbcookin/miniconda3/lib/python3.9/site-packages/librosa/util/decorators.py:88: UserWarning: PySoundFile failed. Trying audioread instead.\n",
      "  return f(*args, **kwargs)\n",
      "/Users/cheffbcookin/miniconda3/lib/python3.9/site-packages/librosa/util/decorators.py:88: UserWarning: PySoundFile failed. Trying audioread instead.\n",
      "  return f(*args, **kwargs)\n",
      "/Users/cheffbcookin/miniconda3/lib/python3.9/site-packages/librosa/util/decorators.py:88: UserWarning: PySoundFile failed. Trying audioread instead.\n",
      "  return f(*args, **kwargs)\n",
      "/Users/cheffbcookin/miniconda3/lib/python3.9/site-packages/librosa/util/decorators.py:88: UserWarning: PySoundFile failed. Trying audioread instead.\n",
      "  return f(*args, **kwargs)\n",
      "/Users/cheffbcookin/miniconda3/lib/python3.9/site-packages/librosa/util/decorators.py:88: UserWarning: PySoundFile failed. Trying audioread instead.\n",
      "  return f(*args, **kwargs)\n",
      "/Users/cheffbcookin/miniconda3/lib/python3.9/site-packages/librosa/util/decorators.py:88: UserWarning: PySoundFile failed. Trying audioread instead.\n",
      "  return f(*args, **kwargs)\n"
     ]
    },
    {
     "name": "stdout",
     "output_type": "stream",
     "text": [
      "Error encountered while parsing file:  /Users/cheffbcookin/Downloads/Bark8K/audio/fold2.0/a0075.wav\n",
      "Error encountered while parsing file:  /Users/cheffbcookin/Downloads/Bark8K/audio/fold2.0/a0076.wav\n",
      "Error encountered while parsing file:  /Users/cheffbcookin/Downloads/Bark8K/audio/fold2.0/a0077.wav\n",
      "Error encountered while parsing file:  /Users/cheffbcookin/Downloads/Bark8K/audio/fold2.0/a0078.wav\n",
      "Error encountered while parsing file:  /Users/cheffbcookin/Downloads/Bark8K/audio/fold2.0/a0079.wav\n",
      "Error encountered while parsing file:  /Users/cheffbcookin/Downloads/Bark8K/audio/fold2.0/a0080.wav\n",
      "Error encountered while parsing file:  /Users/cheffbcookin/Downloads/Bark8K/audio/fold2.0/a0081.wav\n",
      "Error encountered while parsing file:  /Users/cheffbcookin/Downloads/Bark8K/audio/fold2.0/a0082.wav\n"
     ]
    },
    {
     "name": "stderr",
     "output_type": "stream",
     "text": [
      "/Users/cheffbcookin/miniconda3/lib/python3.9/site-packages/librosa/util/decorators.py:88: UserWarning: PySoundFile failed. Trying audioread instead.\n",
      "  return f(*args, **kwargs)\n",
      "/Users/cheffbcookin/miniconda3/lib/python3.9/site-packages/librosa/util/decorators.py:88: UserWarning: PySoundFile failed. Trying audioread instead.\n",
      "  return f(*args, **kwargs)\n",
      "/Users/cheffbcookin/miniconda3/lib/python3.9/site-packages/librosa/util/decorators.py:88: UserWarning: PySoundFile failed. Trying audioread instead.\n",
      "  return f(*args, **kwargs)\n",
      "/Users/cheffbcookin/miniconda3/lib/python3.9/site-packages/librosa/util/decorators.py:88: UserWarning: PySoundFile failed. Trying audioread instead.\n",
      "  return f(*args, **kwargs)\n",
      "/Users/cheffbcookin/miniconda3/lib/python3.9/site-packages/librosa/util/decorators.py:88: UserWarning: PySoundFile failed. Trying audioread instead.\n",
      "  return f(*args, **kwargs)\n",
      "/Users/cheffbcookin/miniconda3/lib/python3.9/site-packages/librosa/util/decorators.py:88: UserWarning: PySoundFile failed. Trying audioread instead.\n",
      "  return f(*args, **kwargs)\n",
      "/Users/cheffbcookin/miniconda3/lib/python3.9/site-packages/librosa/util/decorators.py:88: UserWarning: PySoundFile failed. Trying audioread instead.\n",
      "  return f(*args, **kwargs)\n",
      "/Users/cheffbcookin/miniconda3/lib/python3.9/site-packages/librosa/util/decorators.py:88: UserWarning: PySoundFile failed. Trying audioread instead.\n",
      "  return f(*args, **kwargs)\n"
     ]
    },
    {
     "name": "stdout",
     "output_type": "stream",
     "text": [
      "Error encountered while parsing file:  /Users/cheffbcookin/Downloads/Bark8K/audio/fold2.0/a0083.wav\n",
      "Error encountered while parsing file:  /Users/cheffbcookin/Downloads/Bark8K/audio/fold2.0/a0084.wav\n",
      "Error encountered while parsing file:  /Users/cheffbcookin/Downloads/Bark8K/audio/fold3.0/a0085.wav\n",
      "Error encountered while parsing file:  /Users/cheffbcookin/Downloads/Bark8K/audio/fold3.0/a0086.wav\n",
      "Error encountered while parsing file:  /Users/cheffbcookin/Downloads/Bark8K/audio/fold3.0/a0087.wav\n",
      "Error encountered while parsing file:  /Users/cheffbcookin/Downloads/Bark8K/audio/fold3.0/a0088.wav\n",
      "Error encountered while parsing file:  /Users/cheffbcookin/Downloads/Bark8K/audio/fold3.0/a0089.wav\n"
     ]
    },
    {
     "name": "stderr",
     "output_type": "stream",
     "text": [
      "/Users/cheffbcookin/miniconda3/lib/python3.9/site-packages/librosa/util/decorators.py:88: UserWarning: PySoundFile failed. Trying audioread instead.\n",
      "  return f(*args, **kwargs)\n",
      "/Users/cheffbcookin/miniconda3/lib/python3.9/site-packages/librosa/util/decorators.py:88: UserWarning: PySoundFile failed. Trying audioread instead.\n",
      "  return f(*args, **kwargs)\n",
      "/Users/cheffbcookin/miniconda3/lib/python3.9/site-packages/librosa/util/decorators.py:88: UserWarning: PySoundFile failed. Trying audioread instead.\n",
      "  return f(*args, **kwargs)\n",
      "/Users/cheffbcookin/miniconda3/lib/python3.9/site-packages/librosa/util/decorators.py:88: UserWarning: PySoundFile failed. Trying audioread instead.\n",
      "  return f(*args, **kwargs)\n",
      "/Users/cheffbcookin/miniconda3/lib/python3.9/site-packages/librosa/util/decorators.py:88: UserWarning: PySoundFile failed. Trying audioread instead.\n",
      "  return f(*args, **kwargs)\n",
      "/Users/cheffbcookin/miniconda3/lib/python3.9/site-packages/librosa/util/decorators.py:88: UserWarning: PySoundFile failed. Trying audioread instead.\n",
      "  return f(*args, **kwargs)\n",
      "/Users/cheffbcookin/miniconda3/lib/python3.9/site-packages/librosa/util/decorators.py:88: UserWarning: PySoundFile failed. Trying audioread instead.\n",
      "  return f(*args, **kwargs)\n"
     ]
    },
    {
     "name": "stdout",
     "output_type": "stream",
     "text": [
      "Error encountered while parsing file:  /Users/cheffbcookin/Downloads/Bark8K/audio/fold3.0/a0090.wav\n",
      "Error encountered while parsing file:  /Users/cheffbcookin/Downloads/Bark8K/audio/fold3.0/a0091.wav\n",
      "Error encountered while parsing file:  /Users/cheffbcookin/Downloads/Bark8K/audio/fold3.0/a0092.wav\n",
      "Error encountered while parsing file:  /Users/cheffbcookin/Downloads/Bark8K/audio/fold3.0/a0093.wav\n",
      "Error encountered while parsing file:  /Users/cheffbcookin/Downloads/Bark8K/audio/fold3.0/a0094.wav\n",
      "Error encountered while parsing file:  /Users/cheffbcookin/Downloads/Bark8K/audio/fold3.0/a0095.wav\n",
      "Error encountered while parsing file:  /Users/cheffbcookin/Downloads/Bark8K/audio/fold3.0/a0096.wav\n"
     ]
    },
    {
     "name": "stderr",
     "output_type": "stream",
     "text": [
      "/Users/cheffbcookin/miniconda3/lib/python3.9/site-packages/librosa/util/decorators.py:88: UserWarning: PySoundFile failed. Trying audioread instead.\n",
      "  return f(*args, **kwargs)\n",
      "/Users/cheffbcookin/miniconda3/lib/python3.9/site-packages/librosa/util/decorators.py:88: UserWarning: PySoundFile failed. Trying audioread instead.\n",
      "  return f(*args, **kwargs)\n",
      "/Users/cheffbcookin/miniconda3/lib/python3.9/site-packages/librosa/util/decorators.py:88: UserWarning: PySoundFile failed. Trying audioread instead.\n",
      "  return f(*args, **kwargs)\n",
      "/Users/cheffbcookin/miniconda3/lib/python3.9/site-packages/librosa/util/decorators.py:88: UserWarning: PySoundFile failed. Trying audioread instead.\n",
      "  return f(*args, **kwargs)\n",
      "/Users/cheffbcookin/miniconda3/lib/python3.9/site-packages/librosa/util/decorators.py:88: UserWarning: PySoundFile failed. Trying audioread instead.\n",
      "  return f(*args, **kwargs)\n",
      "/Users/cheffbcookin/miniconda3/lib/python3.9/site-packages/librosa/util/decorators.py:88: UserWarning: PySoundFile failed. Trying audioread instead.\n",
      "  return f(*args, **kwargs)\n",
      "/Users/cheffbcookin/miniconda3/lib/python3.9/site-packages/librosa/util/decorators.py:88: UserWarning: PySoundFile failed. Trying audioread instead.\n",
      "  return f(*args, **kwargs)\n"
     ]
    },
    {
     "name": "stdout",
     "output_type": "stream",
     "text": [
      "Error encountered while parsing file:  /Users/cheffbcookin/Downloads/Bark8K/audio/fold3.0/a0097.wav\n",
      "Error encountered while parsing file:  /Users/cheffbcookin/Downloads/Bark8K/audio/fold3.0/a0098\n",
      "Error encountered while parsing file:  /Users/cheffbcookin/Downloads/Bark8K/audio/fold3.0/a0099.wav\n",
      "Error encountered while parsing file:  /Users/cheffbcookin/Downloads/Bark8K/audio/fold3.0/a0100.wav\n",
      "Error encountered while parsing file:  /Users/cheffbcookin/Downloads/Bark8K/audio/fold3.0/a0101.wav\n",
      "Error encountered while parsing file:  /Users/cheffbcookin/Downloads/Bark8K/audio/fold3.0/a0102.wav\n",
      "Error encountered while parsing file:  /Users/cheffbcookin/Downloads/Bark8K/audio/fold3.0/a0103.wav\n",
      "Error encountered while parsing file:  /Users/cheffbcookin/Downloads/Bark8K/audio/fold3.0/a0104.wav\n",
      "Error encountered while parsing file:  /Users/cheffbcookin/Downloads/Bark8K/audio/fold3.0/a0105.wav\n"
     ]
    },
    {
     "name": "stderr",
     "output_type": "stream",
     "text": [
      "/Users/cheffbcookin/miniconda3/lib/python3.9/site-packages/librosa/util/decorators.py:88: UserWarning: PySoundFile failed. Trying audioread instead.\n",
      "  return f(*args, **kwargs)\n",
      "/Users/cheffbcookin/miniconda3/lib/python3.9/site-packages/librosa/util/decorators.py:88: UserWarning: PySoundFile failed. Trying audioread instead.\n",
      "  return f(*args, **kwargs)\n",
      "/Users/cheffbcookin/miniconda3/lib/python3.9/site-packages/librosa/util/decorators.py:88: UserWarning: PySoundFile failed. Trying audioread instead.\n",
      "  return f(*args, **kwargs)\n",
      "/Users/cheffbcookin/miniconda3/lib/python3.9/site-packages/librosa/util/decorators.py:88: UserWarning: PySoundFile failed. Trying audioread instead.\n",
      "  return f(*args, **kwargs)\n",
      "/Users/cheffbcookin/miniconda3/lib/python3.9/site-packages/librosa/util/decorators.py:88: UserWarning: PySoundFile failed. Trying audioread instead.\n",
      "  return f(*args, **kwargs)\n",
      "/Users/cheffbcookin/miniconda3/lib/python3.9/site-packages/librosa/util/decorators.py:88: UserWarning: PySoundFile failed. Trying audioread instead.\n",
      "  return f(*args, **kwargs)\n",
      "/Users/cheffbcookin/miniconda3/lib/python3.9/site-packages/librosa/util/decorators.py:88: UserWarning: PySoundFile failed. Trying audioread instead.\n",
      "  return f(*args, **kwargs)\n",
      "/Users/cheffbcookin/miniconda3/lib/python3.9/site-packages/librosa/util/decorators.py:88: UserWarning: PySoundFile failed. Trying audioread instead.\n",
      "  return f(*args, **kwargs)\n",
      "/Users/cheffbcookin/miniconda3/lib/python3.9/site-packages/librosa/util/decorators.py:88: UserWarning: PySoundFile failed. Trying audioread instead.\n",
      "  return f(*args, **kwargs)\n"
     ]
    },
    {
     "name": "stdout",
     "output_type": "stream",
     "text": [
      "Error encountered while parsing file:  /Users/cheffbcookin/Downloads/Bark8K/audio/fold3.0/a0106.wav\n",
      "Error encountered while parsing file:  /Users/cheffbcookin/Downloads/Bark8K/audio/fold3.0/a0107.wav\n",
      "Error encountered while parsing file:  /Users/cheffbcookin/Downloads/Bark8K/audio/fold3.0/a0108.wav\n",
      "Error encountered while parsing file:  /Users/cheffbcookin/Downloads/Bark8K/audio/fold3.0/a0109.wav\n",
      "Error encountered while parsing file:  /Users/cheffbcookin/Downloads/Bark8K/audio/fold3.0/a0110.wav\n",
      "Error encountered while parsing file:  /Users/cheffbcookin/Downloads/Bark8K/audio/fold3.0/a0111.wav\n",
      "Error encountered while parsing file:  /Users/cheffbcookin/Downloads/Bark8K/audio/fold3.0/a0112.wav\n",
      "Error encountered while parsing file:  /Users/cheffbcookin/Downloads/Bark8K/audio/fold3.0/a0113.wav\n",
      "Error encountered while parsing file:  /Users/cheffbcookin/Downloads/Bark8K/audio/fold3.0/a0114.wav\n"
     ]
    },
    {
     "name": "stderr",
     "output_type": "stream",
     "text": [
      "/Users/cheffbcookin/miniconda3/lib/python3.9/site-packages/librosa/util/decorators.py:88: UserWarning: PySoundFile failed. Trying audioread instead.\n",
      "  return f(*args, **kwargs)\n",
      "/Users/cheffbcookin/miniconda3/lib/python3.9/site-packages/librosa/util/decorators.py:88: UserWarning: PySoundFile failed. Trying audioread instead.\n",
      "  return f(*args, **kwargs)\n",
      "/Users/cheffbcookin/miniconda3/lib/python3.9/site-packages/librosa/util/decorators.py:88: UserWarning: PySoundFile failed. Trying audioread instead.\n",
      "  return f(*args, **kwargs)\n",
      "/Users/cheffbcookin/miniconda3/lib/python3.9/site-packages/librosa/util/decorators.py:88: UserWarning: PySoundFile failed. Trying audioread instead.\n",
      "  return f(*args, **kwargs)\n",
      "/Users/cheffbcookin/miniconda3/lib/python3.9/site-packages/librosa/util/decorators.py:88: UserWarning: PySoundFile failed. Trying audioread instead.\n",
      "  return f(*args, **kwargs)\n",
      "/Users/cheffbcookin/miniconda3/lib/python3.9/site-packages/librosa/util/decorators.py:88: UserWarning: PySoundFile failed. Trying audioread instead.\n",
      "  return f(*args, **kwargs)\n",
      "/Users/cheffbcookin/miniconda3/lib/python3.9/site-packages/librosa/util/decorators.py:88: UserWarning: PySoundFile failed. Trying audioread instead.\n",
      "  return f(*args, **kwargs)\n",
      "/Users/cheffbcookin/miniconda3/lib/python3.9/site-packages/librosa/util/decorators.py:88: UserWarning: PySoundFile failed. Trying audioread instead.\n",
      "  return f(*args, **kwargs)\n",
      "/Users/cheffbcookin/miniconda3/lib/python3.9/site-packages/librosa/util/decorators.py:88: UserWarning: PySoundFile failed. Trying audioread instead.\n",
      "  return f(*args, **kwargs)\n"
     ]
    },
    {
     "name": "stdout",
     "output_type": "stream",
     "text": [
      "Error encountered while parsing file:  /Users/cheffbcookin/Downloads/Bark8K/audio/fold3.0/a0115.wav\n",
      "Error encountered while parsing file:  /Users/cheffbcookin/Downloads/Bark8K/audio/fold3.0/a0116.wav\n",
      "Error encountered while parsing file:  /Users/cheffbcookin/Downloads/Bark8K/audio/fold3.0/a0117.wav\n",
      "Error encountered while parsing file:  /Users/cheffbcookin/Downloads/Bark8K/audio/fold3.0/a0118.wav\n",
      "Error encountered while parsing file:  /Users/cheffbcookin/Downloads/Bark8K/audio/fold3.0/a0119.wav\n",
      "Error encountered while parsing file:  /Users/cheffbcookin/Downloads/Bark8K/audio/fold3.0/a0120.wav\n",
      "Error encountered while parsing file:  /Users/cheffbcookin/Downloads/Bark8K/audio/fold3.0/a0121.wav\n",
      "Error encountered while parsing file:  /Users/cheffbcookin/Downloads/Bark8K/audio/fold3.0/a0122.wav\n",
      "Error encountered while parsing file:  /Users/cheffbcookin/Downloads/Bark8K/audio/fold3.0/a0123.wav\n"
     ]
    },
    {
     "name": "stderr",
     "output_type": "stream",
     "text": [
      "/Users/cheffbcookin/miniconda3/lib/python3.9/site-packages/librosa/util/decorators.py:88: UserWarning: PySoundFile failed. Trying audioread instead.\n",
      "  return f(*args, **kwargs)\n",
      "/Users/cheffbcookin/miniconda3/lib/python3.9/site-packages/librosa/util/decorators.py:88: UserWarning: PySoundFile failed. Trying audioread instead.\n",
      "  return f(*args, **kwargs)\n",
      "/Users/cheffbcookin/miniconda3/lib/python3.9/site-packages/librosa/util/decorators.py:88: UserWarning: PySoundFile failed. Trying audioread instead.\n",
      "  return f(*args, **kwargs)\n",
      "/Users/cheffbcookin/miniconda3/lib/python3.9/site-packages/librosa/util/decorators.py:88: UserWarning: PySoundFile failed. Trying audioread instead.\n",
      "  return f(*args, **kwargs)\n",
      "/Users/cheffbcookin/miniconda3/lib/python3.9/site-packages/librosa/util/decorators.py:88: UserWarning: PySoundFile failed. Trying audioread instead.\n",
      "  return f(*args, **kwargs)\n",
      "/Users/cheffbcookin/miniconda3/lib/python3.9/site-packages/librosa/util/decorators.py:88: UserWarning: PySoundFile failed. Trying audioread instead.\n",
      "  return f(*args, **kwargs)\n",
      "/Users/cheffbcookin/miniconda3/lib/python3.9/site-packages/librosa/util/decorators.py:88: UserWarning: PySoundFile failed. Trying audioread instead.\n",
      "  return f(*args, **kwargs)\n",
      "/Users/cheffbcookin/miniconda3/lib/python3.9/site-packages/librosa/util/decorators.py:88: UserWarning: PySoundFile failed. Trying audioread instead.\n",
      "  return f(*args, **kwargs)\n",
      "/Users/cheffbcookin/miniconda3/lib/python3.9/site-packages/librosa/util/decorators.py:88: UserWarning: PySoundFile failed. Trying audioread instead.\n",
      "  return f(*args, **kwargs)\n"
     ]
    },
    {
     "name": "stdout",
     "output_type": "stream",
     "text": [
      "Error encountered while parsing file:  /Users/cheffbcookin/Downloads/Bark8K/audio/fold3.0/a0124.wav\n",
      "Error encountered while parsing file:  /Users/cheffbcookin/Downloads/Bark8K/audio/fold3.0/a0125.wav\n",
      "Error encountered while parsing file:  /Users/cheffbcookin/Downloads/Bark8K/audio/fold3.0/a0126.wav\n",
      "Error encountered while parsing file:  /Users/cheffbcookin/Downloads/Bark8K/audio/fold4.0/a0127.wav\n",
      "Error encountered while parsing file:  /Users/cheffbcookin/Downloads/Bark8K/audio/fold4.0/a0128.wav\n",
      "Error encountered while parsing file:  /Users/cheffbcookin/Downloads/Bark8K/audio/fold4.0/a0129.wav\n",
      "Error encountered while parsing file:  /Users/cheffbcookin/Downloads/Bark8K/audio/fold4.0/a0130.wav\n"
     ]
    },
    {
     "name": "stderr",
     "output_type": "stream",
     "text": [
      "/Users/cheffbcookin/miniconda3/lib/python3.9/site-packages/librosa/util/decorators.py:88: UserWarning: PySoundFile failed. Trying audioread instead.\n",
      "  return f(*args, **kwargs)\n",
      "/Users/cheffbcookin/miniconda3/lib/python3.9/site-packages/librosa/util/decorators.py:88: UserWarning: PySoundFile failed. Trying audioread instead.\n",
      "  return f(*args, **kwargs)\n",
      "/Users/cheffbcookin/miniconda3/lib/python3.9/site-packages/librosa/util/decorators.py:88: UserWarning: PySoundFile failed. Trying audioread instead.\n",
      "  return f(*args, **kwargs)\n",
      "/Users/cheffbcookin/miniconda3/lib/python3.9/site-packages/librosa/util/decorators.py:88: UserWarning: PySoundFile failed. Trying audioread instead.\n",
      "  return f(*args, **kwargs)\n",
      "/Users/cheffbcookin/miniconda3/lib/python3.9/site-packages/librosa/util/decorators.py:88: UserWarning: PySoundFile failed. Trying audioread instead.\n",
      "  return f(*args, **kwargs)\n",
      "/Users/cheffbcookin/miniconda3/lib/python3.9/site-packages/librosa/util/decorators.py:88: UserWarning: PySoundFile failed. Trying audioread instead.\n",
      "  return f(*args, **kwargs)\n",
      "/Users/cheffbcookin/miniconda3/lib/python3.9/site-packages/librosa/util/decorators.py:88: UserWarning: PySoundFile failed. Trying audioread instead.\n",
      "  return f(*args, **kwargs)\n"
     ]
    },
    {
     "name": "stdout",
     "output_type": "stream",
     "text": [
      "Error encountered while parsing file:  /Users/cheffbcookin/Downloads/Bark8K/audio/fold4.0/a0131.wav\n",
      "Error encountered while parsing file:  /Users/cheffbcookin/Downloads/Bark8K/audio/fold4.0/a0132.wav\n",
      "Error encountered while parsing file:  /Users/cheffbcookin/Downloads/Bark8K/audio/fold4.0/a0133.wav\n",
      "Error encountered while parsing file:  /Users/cheffbcookin/Downloads/Bark8K/audio/fold4.0/a0134.wav\n",
      "Error encountered while parsing file:  /Users/cheffbcookin/Downloads/Bark8K/audio/fold4.0/a0135.wav\n",
      "Error encountered while parsing file:  /Users/cheffbcookin/Downloads/Bark8K/audio/fold4.0/a0136.wav\n",
      "Error encountered while parsing file:  /Users/cheffbcookin/Downloads/Bark8K/audio/fold4.0/a0137.wav\n"
     ]
    },
    {
     "name": "stderr",
     "output_type": "stream",
     "text": [
      "/Users/cheffbcookin/miniconda3/lib/python3.9/site-packages/librosa/util/decorators.py:88: UserWarning: PySoundFile failed. Trying audioread instead.\n",
      "  return f(*args, **kwargs)\n",
      "/Users/cheffbcookin/miniconda3/lib/python3.9/site-packages/librosa/util/decorators.py:88: UserWarning: PySoundFile failed. Trying audioread instead.\n",
      "  return f(*args, **kwargs)\n",
      "/Users/cheffbcookin/miniconda3/lib/python3.9/site-packages/librosa/util/decorators.py:88: UserWarning: PySoundFile failed. Trying audioread instead.\n",
      "  return f(*args, **kwargs)\n",
      "/Users/cheffbcookin/miniconda3/lib/python3.9/site-packages/librosa/util/decorators.py:88: UserWarning: PySoundFile failed. Trying audioread instead.\n",
      "  return f(*args, **kwargs)\n",
      "/Users/cheffbcookin/miniconda3/lib/python3.9/site-packages/librosa/util/decorators.py:88: UserWarning: PySoundFile failed. Trying audioread instead.\n",
      "  return f(*args, **kwargs)\n",
      "/Users/cheffbcookin/miniconda3/lib/python3.9/site-packages/librosa/util/decorators.py:88: UserWarning: PySoundFile failed. Trying audioread instead.\n",
      "  return f(*args, **kwargs)\n",
      "/Users/cheffbcookin/miniconda3/lib/python3.9/site-packages/librosa/util/decorators.py:88: UserWarning: PySoundFile failed. Trying audioread instead.\n",
      "  return f(*args, **kwargs)\n"
     ]
    },
    {
     "name": "stdout",
     "output_type": "stream",
     "text": [
      "Error encountered while parsing file:  /Users/cheffbcookin/Downloads/Bark8K/audio/fold4.0/a0138.wav\n",
      "Error encountered while parsing file:  /Users/cheffbcookin/Downloads/Bark8K/audio/fold4.0/a0139.wav\n",
      "Error encountered while parsing file:  /Users/cheffbcookin/Downloads/Bark8K/audio/fold4.0/a0140.wav\n",
      "Error encountered while parsing file:  /Users/cheffbcookin/Downloads/Bark8K/audio/fold4.0/a0141.wav\n",
      "Error encountered while parsing file:  /Users/cheffbcookin/Downloads/Bark8K/audio/fold4.0/a0142.wav\n",
      "Error encountered while parsing file:  /Users/cheffbcookin/Downloads/Bark8K/audio/fold4.0/a0143.wav\n",
      "Error encountered while parsing file:  /Users/cheffbcookin/Downloads/Bark8K/audio/fold4.0/a0144.wav\n"
     ]
    },
    {
     "name": "stderr",
     "output_type": "stream",
     "text": [
      "/Users/cheffbcookin/miniconda3/lib/python3.9/site-packages/librosa/util/decorators.py:88: UserWarning: PySoundFile failed. Trying audioread instead.\n",
      "  return f(*args, **kwargs)\n",
      "/Users/cheffbcookin/miniconda3/lib/python3.9/site-packages/librosa/util/decorators.py:88: UserWarning: PySoundFile failed. Trying audioread instead.\n",
      "  return f(*args, **kwargs)\n",
      "/Users/cheffbcookin/miniconda3/lib/python3.9/site-packages/librosa/util/decorators.py:88: UserWarning: PySoundFile failed. Trying audioread instead.\n",
      "  return f(*args, **kwargs)\n",
      "/Users/cheffbcookin/miniconda3/lib/python3.9/site-packages/librosa/util/decorators.py:88: UserWarning: PySoundFile failed. Trying audioread instead.\n",
      "  return f(*args, **kwargs)\n",
      "/Users/cheffbcookin/miniconda3/lib/python3.9/site-packages/librosa/util/decorators.py:88: UserWarning: PySoundFile failed. Trying audioread instead.\n",
      "  return f(*args, **kwargs)\n",
      "/Users/cheffbcookin/miniconda3/lib/python3.9/site-packages/librosa/util/decorators.py:88: UserWarning: PySoundFile failed. Trying audioread instead.\n",
      "  return f(*args, **kwargs)\n",
      "/Users/cheffbcookin/miniconda3/lib/python3.9/site-packages/librosa/util/decorators.py:88: UserWarning: PySoundFile failed. Trying audioread instead.\n",
      "  return f(*args, **kwargs)\n",
      "/Users/cheffbcookin/miniconda3/lib/python3.9/site-packages/librosa/util/decorators.py:88: UserWarning: PySoundFile failed. Trying audioread instead.\n",
      "  return f(*args, **kwargs)\n",
      "/Users/cheffbcookin/miniconda3/lib/python3.9/site-packages/librosa/util/decorators.py:88: UserWarning: PySoundFile failed. Trying audioread instead.\n",
      "  return f(*args, **kwargs)\n",
      "/Users/cheffbcookin/miniconda3/lib/python3.9/site-packages/librosa/util/decorators.py:88: UserWarning: PySoundFile failed. Trying audioread instead.\n",
      "  return f(*args, **kwargs)\n",
      "/Users/cheffbcookin/miniconda3/lib/python3.9/site-packages/librosa/util/decorators.py:88: UserWarning: PySoundFile failed. Trying audioread instead.\n",
      "  return f(*args, **kwargs)\n",
      "/Users/cheffbcookin/miniconda3/lib/python3.9/site-packages/librosa/util/decorators.py:88: UserWarning: PySoundFile failed. Trying audioread instead.\n",
      "  return f(*args, **kwargs)\n"
     ]
    },
    {
     "name": "stdout",
     "output_type": "stream",
     "text": [
      "Error encountered while parsing file:  /Users/cheffbcookin/Downloads/Bark8K/audio/fold4.0/a0145.wav\n",
      "Error encountered while parsing file:  /Users/cheffbcookin/Downloads/Bark8K/audio/fold4.0/a0146.wav\n",
      "Error encountered while parsing file:  /Users/cheffbcookin/Downloads/Bark8K/audio/fold4.0/a0147.wav\n",
      "Error encountered while parsing file:  /Users/cheffbcookin/Downloads/Bark8K/audio/fold4.0/a0148.wav\n",
      "Error encountered while parsing file:  /Users/cheffbcookin/Downloads/Bark8K/audio/fold4.0/a0149.wav\n",
      "Error encountered while parsing file:  /Users/cheffbcookin/Downloads/Bark8K/audio/fold4.0/a0150.wav\n",
      "Error encountered while parsing file:  /Users/cheffbcookin/Downloads/Bark8K/audio/fold4.0/a0151.wav\n"
     ]
    },
    {
     "name": "stderr",
     "output_type": "stream",
     "text": [
      "/Users/cheffbcookin/miniconda3/lib/python3.9/site-packages/librosa/util/decorators.py:88: UserWarning: PySoundFile failed. Trying audioread instead.\n",
      "  return f(*args, **kwargs)\n",
      "/Users/cheffbcookin/miniconda3/lib/python3.9/site-packages/librosa/util/decorators.py:88: UserWarning: PySoundFile failed. Trying audioread instead.\n",
      "  return f(*args, **kwargs)\n",
      "/Users/cheffbcookin/miniconda3/lib/python3.9/site-packages/librosa/util/decorators.py:88: UserWarning: PySoundFile failed. Trying audioread instead.\n",
      "  return f(*args, **kwargs)\n",
      "/Users/cheffbcookin/miniconda3/lib/python3.9/site-packages/librosa/util/decorators.py:88: UserWarning: PySoundFile failed. Trying audioread instead.\n",
      "  return f(*args, **kwargs)\n",
      "/Users/cheffbcookin/miniconda3/lib/python3.9/site-packages/librosa/util/decorators.py:88: UserWarning: PySoundFile failed. Trying audioread instead.\n",
      "  return f(*args, **kwargs)\n",
      "/Users/cheffbcookin/miniconda3/lib/python3.9/site-packages/librosa/util/decorators.py:88: UserWarning: PySoundFile failed. Trying audioread instead.\n",
      "  return f(*args, **kwargs)\n",
      "/Users/cheffbcookin/miniconda3/lib/python3.9/site-packages/librosa/util/decorators.py:88: UserWarning: PySoundFile failed. Trying audioread instead.\n",
      "  return f(*args, **kwargs)\n",
      "/Users/cheffbcookin/miniconda3/lib/python3.9/site-packages/librosa/util/decorators.py:88: UserWarning: PySoundFile failed. Trying audioread instead.\n",
      "  return f(*args, **kwargs)\n"
     ]
    },
    {
     "name": "stdout",
     "output_type": "stream",
     "text": [
      "Error encountered while parsing file:  /Users/cheffbcookin/Downloads/Bark8K/audio/fold4.0/a0152.wav\n",
      "Error encountered while parsing file:  /Users/cheffbcookin/Downloads/Bark8K/audio/fold4.0/a0153.wav\n",
      "Error encountered while parsing file:  /Users/cheffbcookin/Downloads/Bark8K/audio/fold4.0/a0154.wav\n",
      "Error encountered while parsing file:  /Users/cheffbcookin/Downloads/Bark8K/audio/fold4.0/a0155.wav\n",
      "Error encountered while parsing file:  /Users/cheffbcookin/Downloads/Bark8K/audio/fold4.0/a0156.wav\n",
      "Error encountered while parsing file:  /Users/cheffbcookin/Downloads/Bark8K/audio/fold4.0/a0157.wav\n",
      "Error encountered while parsing file:  /Users/cheffbcookin/Downloads/Bark8K/audio/fold4.0/a0158.wav\n",
      "Error encountered while parsing file:  /Users/cheffbcookin/Downloads/Bark8K/audio/fold4.0/a0159.wav\n"
     ]
    },
    {
     "name": "stderr",
     "output_type": "stream",
     "text": [
      "/Users/cheffbcookin/miniconda3/lib/python3.9/site-packages/librosa/util/decorators.py:88: UserWarning: PySoundFile failed. Trying audioread instead.\n",
      "  return f(*args, **kwargs)\n",
      "/Users/cheffbcookin/miniconda3/lib/python3.9/site-packages/librosa/util/decorators.py:88: UserWarning: PySoundFile failed. Trying audioread instead.\n",
      "  return f(*args, **kwargs)\n",
      "/Users/cheffbcookin/miniconda3/lib/python3.9/site-packages/librosa/util/decorators.py:88: UserWarning: PySoundFile failed. Trying audioread instead.\n",
      "  return f(*args, **kwargs)\n",
      "/Users/cheffbcookin/miniconda3/lib/python3.9/site-packages/librosa/util/decorators.py:88: UserWarning: PySoundFile failed. Trying audioread instead.\n",
      "  return f(*args, **kwargs)\n",
      "/Users/cheffbcookin/miniconda3/lib/python3.9/site-packages/librosa/util/decorators.py:88: UserWarning: PySoundFile failed. Trying audioread instead.\n",
      "  return f(*args, **kwargs)\n",
      "/Users/cheffbcookin/miniconda3/lib/python3.9/site-packages/librosa/util/decorators.py:88: UserWarning: PySoundFile failed. Trying audioread instead.\n",
      "  return f(*args, **kwargs)\n",
      "/Users/cheffbcookin/miniconda3/lib/python3.9/site-packages/librosa/util/decorators.py:88: UserWarning: PySoundFile failed. Trying audioread instead.\n",
      "  return f(*args, **kwargs)\n",
      "/Users/cheffbcookin/miniconda3/lib/python3.9/site-packages/librosa/util/decorators.py:88: UserWarning: PySoundFile failed. Trying audioread instead.\n",
      "  return f(*args, **kwargs)\n"
     ]
    },
    {
     "name": "stdout",
     "output_type": "stream",
     "text": [
      "Error encountered while parsing file:  /Users/cheffbcookin/Downloads/Bark8K/audio/fold4.0/a0160.wav\n",
      "Error encountered while parsing file:  /Users/cheffbcookin/Downloads/Bark8K/audio/fold4.0/a0161.wav\n",
      "Error encountered while parsing file:  /Users/cheffbcookin/Downloads/Bark8K/audio/fold4.0/a0162.wav\n",
      "Error encountered while parsing file:  /Users/cheffbcookin/Downloads/Bark8K/audio/fold4.0/a0163.wav\n",
      "Error encountered while parsing file:  /Users/cheffbcookin/Downloads/Bark8K/audio/fold4.0/a0164.wav\n",
      "Error encountered while parsing file:  /Users/cheffbcookin/Downloads/Bark8K/audio/fold4.0/a0165.wav\n",
      "Error encountered while parsing file:  /Users/cheffbcookin/Downloads/Bark8K/audio/fold4.0/a0166.wav\n",
      "Error encountered while parsing file:  /Users/cheffbcookin/Downloads/Bark8K/audio/fold5.0/a0167.wav\n"
     ]
    },
    {
     "name": "stderr",
     "output_type": "stream",
     "text": [
      "/Users/cheffbcookin/miniconda3/lib/python3.9/site-packages/librosa/util/decorators.py:88: UserWarning: PySoundFile failed. Trying audioread instead.\n",
      "  return f(*args, **kwargs)\n",
      "/Users/cheffbcookin/miniconda3/lib/python3.9/site-packages/librosa/util/decorators.py:88: UserWarning: PySoundFile failed. Trying audioread instead.\n",
      "  return f(*args, **kwargs)\n",
      "/Users/cheffbcookin/miniconda3/lib/python3.9/site-packages/librosa/util/decorators.py:88: UserWarning: PySoundFile failed. Trying audioread instead.\n",
      "  return f(*args, **kwargs)\n",
      "/Users/cheffbcookin/miniconda3/lib/python3.9/site-packages/librosa/util/decorators.py:88: UserWarning: PySoundFile failed. Trying audioread instead.\n",
      "  return f(*args, **kwargs)\n",
      "/Users/cheffbcookin/miniconda3/lib/python3.9/site-packages/librosa/util/decorators.py:88: UserWarning: PySoundFile failed. Trying audioread instead.\n",
      "  return f(*args, **kwargs)\n",
      "/Users/cheffbcookin/miniconda3/lib/python3.9/site-packages/librosa/util/decorators.py:88: UserWarning: PySoundFile failed. Trying audioread instead.\n",
      "  return f(*args, **kwargs)\n",
      "/Users/cheffbcookin/miniconda3/lib/python3.9/site-packages/librosa/util/decorators.py:88: UserWarning: PySoundFile failed. Trying audioread instead.\n",
      "  return f(*args, **kwargs)\n",
      "/Users/cheffbcookin/miniconda3/lib/python3.9/site-packages/librosa/util/decorators.py:88: UserWarning: PySoundFile failed. Trying audioread instead.\n",
      "  return f(*args, **kwargs)\n"
     ]
    },
    {
     "name": "stdout",
     "output_type": "stream",
     "text": [
      "Error encountered while parsing file:  /Users/cheffbcookin/Downloads/Bark8K/audio/fold5.0/a0168.wav\n",
      "Error encountered while parsing file:  /Users/cheffbcookin/Downloads/Bark8K/audio/fold5.0/a0169.wav\n",
      "Error encountered while parsing file:  /Users/cheffbcookin/Downloads/Bark8K/audio/fold5.0/a0170.wav\n",
      "Error encountered while parsing file:  /Users/cheffbcookin/Downloads/Bark8K/audio/fold5.0/a0171.wav\n",
      "Error encountered while parsing file:  /Users/cheffbcookin/Downloads/Bark8K/audio/fold5.0/a0172.wav\n",
      "Error encountered while parsing file:  /Users/cheffbcookin/Downloads/Bark8K/audio/fold5.0/a0173.wav\n",
      "Error encountered while parsing file:  /Users/cheffbcookin/Downloads/Bark8K/audio/fold5.0/a0174.wav\n",
      "Error encountered while parsing file:  /Users/cheffbcookin/Downloads/Bark8K/audio/fold5.0/a0175.wav\n"
     ]
    },
    {
     "name": "stderr",
     "output_type": "stream",
     "text": [
      "/Users/cheffbcookin/miniconda3/lib/python3.9/site-packages/librosa/util/decorators.py:88: UserWarning: PySoundFile failed. Trying audioread instead.\n",
      "  return f(*args, **kwargs)\n",
      "/Users/cheffbcookin/miniconda3/lib/python3.9/site-packages/librosa/util/decorators.py:88: UserWarning: PySoundFile failed. Trying audioread instead.\n",
      "  return f(*args, **kwargs)\n",
      "/Users/cheffbcookin/miniconda3/lib/python3.9/site-packages/librosa/util/decorators.py:88: UserWarning: PySoundFile failed. Trying audioread instead.\n",
      "  return f(*args, **kwargs)\n",
      "/Users/cheffbcookin/miniconda3/lib/python3.9/site-packages/librosa/util/decorators.py:88: UserWarning: PySoundFile failed. Trying audioread instead.\n",
      "  return f(*args, **kwargs)\n",
      "/Users/cheffbcookin/miniconda3/lib/python3.9/site-packages/librosa/util/decorators.py:88: UserWarning: PySoundFile failed. Trying audioread instead.\n",
      "  return f(*args, **kwargs)\n",
      "/Users/cheffbcookin/miniconda3/lib/python3.9/site-packages/librosa/util/decorators.py:88: UserWarning: PySoundFile failed. Trying audioread instead.\n",
      "  return f(*args, **kwargs)\n",
      "/Users/cheffbcookin/miniconda3/lib/python3.9/site-packages/librosa/util/decorators.py:88: UserWarning: PySoundFile failed. Trying audioread instead.\n",
      "  return f(*args, **kwargs)\n",
      "/Users/cheffbcookin/miniconda3/lib/python3.9/site-packages/librosa/util/decorators.py:88: UserWarning: PySoundFile failed. Trying audioread instead.\n",
      "  return f(*args, **kwargs)\n"
     ]
    },
    {
     "name": "stdout",
     "output_type": "stream",
     "text": [
      "Error encountered while parsing file:  /Users/cheffbcookin/Downloads/Bark8K/audio/fold5.0/a0176.wav\n",
      "Error encountered while parsing file:  /Users/cheffbcookin/Downloads/Bark8K/audio/fold5.0/a0177.wav\n",
      "Error encountered while parsing file:  /Users/cheffbcookin/Downloads/Bark8K/audio/fold5.0/a0178.wav\n",
      "Error encountered while parsing file:  /Users/cheffbcookin/Downloads/Bark8K/audio/fold5.0/a0179.wav\n",
      "Error encountered while parsing file:  /Users/cheffbcookin/Downloads/Bark8K/audio/fold5.0/a0180.wav\n",
      "Error encountered while parsing file:  /Users/cheffbcookin/Downloads/Bark8K/audio/fold5.0/a0181.wav\n",
      "Error encountered while parsing file:  /Users/cheffbcookin/Downloads/Bark8K/audio/fold5.0/a0182.wav\n",
      "Error encountered while parsing file:  /Users/cheffbcookin/Downloads/Bark8K/audio/fold5.0/a0183.wav\n"
     ]
    },
    {
     "name": "stderr",
     "output_type": "stream",
     "text": [
      "/Users/cheffbcookin/miniconda3/lib/python3.9/site-packages/librosa/util/decorators.py:88: UserWarning: PySoundFile failed. Trying audioread instead.\n",
      "  return f(*args, **kwargs)\n",
      "/Users/cheffbcookin/miniconda3/lib/python3.9/site-packages/librosa/util/decorators.py:88: UserWarning: PySoundFile failed. Trying audioread instead.\n",
      "  return f(*args, **kwargs)\n",
      "/Users/cheffbcookin/miniconda3/lib/python3.9/site-packages/librosa/util/decorators.py:88: UserWarning: PySoundFile failed. Trying audioread instead.\n",
      "  return f(*args, **kwargs)\n",
      "/Users/cheffbcookin/miniconda3/lib/python3.9/site-packages/librosa/util/decorators.py:88: UserWarning: PySoundFile failed. Trying audioread instead.\n",
      "  return f(*args, **kwargs)\n",
      "/Users/cheffbcookin/miniconda3/lib/python3.9/site-packages/librosa/util/decorators.py:88: UserWarning: PySoundFile failed. Trying audioread instead.\n",
      "  return f(*args, **kwargs)\n",
      "/Users/cheffbcookin/miniconda3/lib/python3.9/site-packages/librosa/util/decorators.py:88: UserWarning: PySoundFile failed. Trying audioread instead.\n",
      "  return f(*args, **kwargs)\n",
      "/Users/cheffbcookin/miniconda3/lib/python3.9/site-packages/librosa/util/decorators.py:88: UserWarning: PySoundFile failed. Trying audioread instead.\n",
      "  return f(*args, **kwargs)\n",
      "/Users/cheffbcookin/miniconda3/lib/python3.9/site-packages/librosa/util/decorators.py:88: UserWarning: PySoundFile failed. Trying audioread instead.\n",
      "  return f(*args, **kwargs)\n"
     ]
    },
    {
     "name": "stdout",
     "output_type": "stream",
     "text": [
      "Error encountered while parsing file:  /Users/cheffbcookin/Downloads/Bark8K/audio/fold5.0/a0184.wav\n",
      "Error encountered while parsing file:  /Users/cheffbcookin/Downloads/Bark8K/audio/fold5.0/a0185.wav\n",
      "Error encountered while parsing file:  /Users/cheffbcookin/Downloads/Bark8K/audio/fold5.0/a0186.wav\n",
      "Error encountered while parsing file:  /Users/cheffbcookin/Downloads/Bark8K/audio/fold5.0/a0187.wav\n",
      "Error encountered while parsing file:  /Users/cheffbcookin/Downloads/Bark8K/audio/fold5.0/a0188.wav\n",
      "Error encountered while parsing file:  /Users/cheffbcookin/Downloads/Bark8K/audio/fold5.0/a0189.wav\n",
      "Error encountered while parsing file:  /Users/cheffbcookin/Downloads/Bark8K/audio/fold5.0/a0190.wav\n",
      "Error encountered while parsing file:  /Users/cheffbcookin/Downloads/Bark8K/audio/fold5.0/a0191.wav\n"
     ]
    },
    {
     "name": "stderr",
     "output_type": "stream",
     "text": [
      "/Users/cheffbcookin/miniconda3/lib/python3.9/site-packages/librosa/util/decorators.py:88: UserWarning: PySoundFile failed. Trying audioread instead.\n",
      "  return f(*args, **kwargs)\n",
      "/Users/cheffbcookin/miniconda3/lib/python3.9/site-packages/librosa/util/decorators.py:88: UserWarning: PySoundFile failed. Trying audioread instead.\n",
      "  return f(*args, **kwargs)\n",
      "/Users/cheffbcookin/miniconda3/lib/python3.9/site-packages/librosa/util/decorators.py:88: UserWarning: PySoundFile failed. Trying audioread instead.\n",
      "  return f(*args, **kwargs)\n",
      "/Users/cheffbcookin/miniconda3/lib/python3.9/site-packages/librosa/util/decorators.py:88: UserWarning: PySoundFile failed. Trying audioread instead.\n",
      "  return f(*args, **kwargs)\n",
      "/Users/cheffbcookin/miniconda3/lib/python3.9/site-packages/librosa/util/decorators.py:88: UserWarning: PySoundFile failed. Trying audioread instead.\n",
      "  return f(*args, **kwargs)\n",
      "/Users/cheffbcookin/miniconda3/lib/python3.9/site-packages/librosa/util/decorators.py:88: UserWarning: PySoundFile failed. Trying audioread instead.\n",
      "  return f(*args, **kwargs)\n",
      "/Users/cheffbcookin/miniconda3/lib/python3.9/site-packages/librosa/util/decorators.py:88: UserWarning: PySoundFile failed. Trying audioread instead.\n",
      "  return f(*args, **kwargs)\n",
      "/Users/cheffbcookin/miniconda3/lib/python3.9/site-packages/librosa/util/decorators.py:88: UserWarning: PySoundFile failed. Trying audioread instead.\n",
      "  return f(*args, **kwargs)\n"
     ]
    },
    {
     "name": "stdout",
     "output_type": "stream",
     "text": [
      "Error encountered while parsing file:  /Users/cheffbcookin/Downloads/Bark8K/audio/fold5.0/a0192.wav\n",
      "Error encountered while parsing file:  /Users/cheffbcookin/Downloads/Bark8K/audio/fold5.0/a0193.wav\n",
      "Error encountered while parsing file:  /Users/cheffbcookin/Downloads/Bark8K/audio/fold5.0/a0194.wav\n",
      "Error encountered while parsing file:  /Users/cheffbcookin/Downloads/Bark8K/audio/fold5.0/a0195.wav\n",
      "Error encountered while parsing file:  /Users/cheffbcookin/Downloads/Bark8K/audio/fold5.0/a0196.wav\n",
      "Error encountered while parsing file:  /Users/cheffbcookin/Downloads/Bark8K/audio/fold5.0/a0197.wav\n",
      "Error encountered while parsing file:  /Users/cheffbcookin/Downloads/Bark8K/audio/fold5.0/a0198.wav\n",
      "Error encountered while parsing file:  /Users/cheffbcookin/Downloads/Bark8K/audio/fold5.0/a0199.wav\n"
     ]
    },
    {
     "name": "stderr",
     "output_type": "stream",
     "text": [
      "/Users/cheffbcookin/miniconda3/lib/python3.9/site-packages/librosa/util/decorators.py:88: UserWarning: PySoundFile failed. Trying audioread instead.\n",
      "  return f(*args, **kwargs)\n",
      "/Users/cheffbcookin/miniconda3/lib/python3.9/site-packages/librosa/util/decorators.py:88: UserWarning: PySoundFile failed. Trying audioread instead.\n",
      "  return f(*args, **kwargs)\n",
      "/Users/cheffbcookin/miniconda3/lib/python3.9/site-packages/librosa/util/decorators.py:88: UserWarning: PySoundFile failed. Trying audioread instead.\n",
      "  return f(*args, **kwargs)\n",
      "/Users/cheffbcookin/miniconda3/lib/python3.9/site-packages/librosa/util/decorators.py:88: UserWarning: PySoundFile failed. Trying audioread instead.\n",
      "  return f(*args, **kwargs)\n",
      "/Users/cheffbcookin/miniconda3/lib/python3.9/site-packages/librosa/util/decorators.py:88: UserWarning: PySoundFile failed. Trying audioread instead.\n",
      "  return f(*args, **kwargs)\n",
      "/Users/cheffbcookin/miniconda3/lib/python3.9/site-packages/librosa/util/decorators.py:88: UserWarning: PySoundFile failed. Trying audioread instead.\n",
      "  return f(*args, **kwargs)\n",
      "/Users/cheffbcookin/miniconda3/lib/python3.9/site-packages/librosa/util/decorators.py:88: UserWarning: PySoundFile failed. Trying audioread instead.\n",
      "  return f(*args, **kwargs)\n",
      "/Users/cheffbcookin/miniconda3/lib/python3.9/site-packages/librosa/util/decorators.py:88: UserWarning: PySoundFile failed. Trying audioread instead.\n",
      "  return f(*args, **kwargs)\n"
     ]
    },
    {
     "name": "stdout",
     "output_type": "stream",
     "text": [
      "Error encountered while parsing file:  /Users/cheffbcookin/Downloads/Bark8K/audio/fold5.0/a0200.wav\n",
      "Error encountered while parsing file:  /Users/cheffbcookin/Downloads/Bark8K/audio/fold5.0/a0201.wav\n",
      "Error encountered while parsing file:  /Users/cheffbcookin/Downloads/Bark8K/audio/fold5.0/a0202.wav\n",
      "Error encountered while parsing file:  /Users/cheffbcookin/Downloads/Bark8K/audio/fold5.0/a0203.wav\n",
      "Error encountered while parsing file:  /Users/cheffbcookin/Downloads/Bark8K/audio/fold5.0/a0204.wav\n",
      "Error encountered while parsing file:  /Users/cheffbcookin/Downloads/Bark8K/audio/fold5.0/a0205.wav\n",
      "Error encountered while parsing file:  /Users/cheffbcookin/Downloads/Bark8K/audio/fold5.0/a0206.wav\n"
     ]
    },
    {
     "name": "stderr",
     "output_type": "stream",
     "text": [
      "/Users/cheffbcookin/miniconda3/lib/python3.9/site-packages/librosa/util/decorators.py:88: UserWarning: PySoundFile failed. Trying audioread instead.\n",
      "  return f(*args, **kwargs)\n",
      "/Users/cheffbcookin/miniconda3/lib/python3.9/site-packages/librosa/util/decorators.py:88: UserWarning: PySoundFile failed. Trying audioread instead.\n",
      "  return f(*args, **kwargs)\n",
      "/Users/cheffbcookin/miniconda3/lib/python3.9/site-packages/librosa/util/decorators.py:88: UserWarning: PySoundFile failed. Trying audioread instead.\n",
      "  return f(*args, **kwargs)\n",
      "/Users/cheffbcookin/miniconda3/lib/python3.9/site-packages/librosa/util/decorators.py:88: UserWarning: PySoundFile failed. Trying audioread instead.\n",
      "  return f(*args, **kwargs)\n",
      "/Users/cheffbcookin/miniconda3/lib/python3.9/site-packages/librosa/util/decorators.py:88: UserWarning: PySoundFile failed. Trying audioread instead.\n",
      "  return f(*args, **kwargs)\n",
      "/Users/cheffbcookin/miniconda3/lib/python3.9/site-packages/librosa/util/decorators.py:88: UserWarning: PySoundFile failed. Trying audioread instead.\n",
      "  return f(*args, **kwargs)\n",
      "/Users/cheffbcookin/miniconda3/lib/python3.9/site-packages/librosa/util/decorators.py:88: UserWarning: PySoundFile failed. Trying audioread instead.\n",
      "  return f(*args, **kwargs)\n",
      "/Users/cheffbcookin/miniconda3/lib/python3.9/site-packages/librosa/util/decorators.py:88: UserWarning: PySoundFile failed. Trying audioread instead.\n",
      "  return f(*args, **kwargs)\n"
     ]
    },
    {
     "name": "stdout",
     "output_type": "stream",
     "text": [
      "Error encountered while parsing file:  /Users/cheffbcookin/Downloads/Bark8K/audio/fold5.0/a0207.wav\n",
      "Error encountered while parsing file:  /Users/cheffbcookin/Downloads/Bark8K/audio/fold5.0/a0208.wav\n",
      "Error encountered while parsing file:  /Users/cheffbcookin/Downloads/Bark8K/audio/fold5.0/a0209.wav\n",
      "Error encountered while parsing file:  /Users/cheffbcookin/Downloads/Bark8K/audio/fold5.0/a0210.wav\n",
      "Error encountered while parsing file:  /Users/cheffbcookin/Downloads/Bark8K/audio/fold5.0/a0211.wav\n",
      "Error encountered while parsing file:  /Users/cheffbcookin/Downloads/Bark8K/audio/fold5.0/a0212.wav\n",
      "Error encountered while parsing file:  /Users/cheffbcookin/Downloads/Bark8K/audio/fold5.0/a0213.wav\n",
      "Error encountered while parsing file:  /Users/cheffbcookin/Downloads/Bark8K/audio/fold5.0/a0214.wav\n"
     ]
    },
    {
     "name": "stderr",
     "output_type": "stream",
     "text": [
      "/Users/cheffbcookin/miniconda3/lib/python3.9/site-packages/librosa/util/decorators.py:88: UserWarning: PySoundFile failed. Trying audioread instead.\n",
      "  return f(*args, **kwargs)\n",
      "/Users/cheffbcookin/miniconda3/lib/python3.9/site-packages/librosa/util/decorators.py:88: UserWarning: PySoundFile failed. Trying audioread instead.\n",
      "  return f(*args, **kwargs)\n",
      "/Users/cheffbcookin/miniconda3/lib/python3.9/site-packages/librosa/util/decorators.py:88: UserWarning: PySoundFile failed. Trying audioread instead.\n",
      "  return f(*args, **kwargs)\n",
      "/Users/cheffbcookin/miniconda3/lib/python3.9/site-packages/librosa/util/decorators.py:88: UserWarning: PySoundFile failed. Trying audioread instead.\n",
      "  return f(*args, **kwargs)\n",
      "/Users/cheffbcookin/miniconda3/lib/python3.9/site-packages/librosa/util/decorators.py:88: UserWarning: PySoundFile failed. Trying audioread instead.\n",
      "  return f(*args, **kwargs)\n",
      "/Users/cheffbcookin/miniconda3/lib/python3.9/site-packages/librosa/util/decorators.py:88: UserWarning: PySoundFile failed. Trying audioread instead.\n",
      "  return f(*args, **kwargs)\n",
      "/Users/cheffbcookin/miniconda3/lib/python3.9/site-packages/librosa/util/decorators.py:88: UserWarning: PySoundFile failed. Trying audioread instead.\n",
      "  return f(*args, **kwargs)\n",
      "/Users/cheffbcookin/miniconda3/lib/python3.9/site-packages/librosa/util/decorators.py:88: UserWarning: PySoundFile failed. Trying audioread instead.\n",
      "  return f(*args, **kwargs)\n"
     ]
    },
    {
     "name": "stdout",
     "output_type": "stream",
     "text": [
      "Error encountered while parsing file:  /Users/cheffbcookin/Downloads/Bark8K/audio/fold5.0/a0215.wav\n",
      "Error encountered while parsing file:  /Users/cheffbcookin/Downloads/Bark8K/audio/fold5.0/a0216.wav\n",
      "Error encountered while parsing file:  /Users/cheffbcookin/Downloads/Bark8K/audio/fold5.0/a0217.wav\n",
      "Error encountered while parsing file:  /Users/cheffbcookin/Downloads/Bark8K/audio/fold5.0/a0218.wav\n",
      "Error encountered while parsing file:  /Users/cheffbcookin/Downloads/Bark8K/audio/fold5.0/a0219.wav\n",
      "Error encountered while parsing file:  /Users/cheffbcookin/Downloads/Bark8K/audio/fold5.0/a0220.wav\n",
      "Error encountered while parsing file:  /Users/cheffbcookin/Downloads/Bark8K/audio/fold5.0/a0221.wav\n",
      "Error encountered while parsing file:  /Users/cheffbcookin/Downloads/Bark8K/audio/fold5.0/a0222.wav\n"
     ]
    },
    {
     "name": "stderr",
     "output_type": "stream",
     "text": [
      "/Users/cheffbcookin/miniconda3/lib/python3.9/site-packages/librosa/util/decorators.py:88: UserWarning: PySoundFile failed. Trying audioread instead.\n",
      "  return f(*args, **kwargs)\n",
      "/Users/cheffbcookin/miniconda3/lib/python3.9/site-packages/librosa/util/decorators.py:88: UserWarning: PySoundFile failed. Trying audioread instead.\n",
      "  return f(*args, **kwargs)\n",
      "/Users/cheffbcookin/miniconda3/lib/python3.9/site-packages/librosa/util/decorators.py:88: UserWarning: PySoundFile failed. Trying audioread instead.\n",
      "  return f(*args, **kwargs)\n",
      "/Users/cheffbcookin/miniconda3/lib/python3.9/site-packages/librosa/util/decorators.py:88: UserWarning: PySoundFile failed. Trying audioread instead.\n",
      "  return f(*args, **kwargs)\n",
      "/Users/cheffbcookin/miniconda3/lib/python3.9/site-packages/librosa/util/decorators.py:88: UserWarning: PySoundFile failed. Trying audioread instead.\n",
      "  return f(*args, **kwargs)\n",
      "/Users/cheffbcookin/miniconda3/lib/python3.9/site-packages/librosa/util/decorators.py:88: UserWarning: PySoundFile failed. Trying audioread instead.\n",
      "  return f(*args, **kwargs)\n",
      "/Users/cheffbcookin/miniconda3/lib/python3.9/site-packages/librosa/util/decorators.py:88: UserWarning: PySoundFile failed. Trying audioread instead.\n",
      "  return f(*args, **kwargs)\n",
      "/Users/cheffbcookin/miniconda3/lib/python3.9/site-packages/librosa/util/decorators.py:88: UserWarning: PySoundFile failed. Trying audioread instead.\n",
      "  return f(*args, **kwargs)\n"
     ]
    },
    {
     "name": "stdout",
     "output_type": "stream",
     "text": [
      "Error encountered while parsing file:  /Users/cheffbcookin/Downloads/Bark8K/audio/fold5.0/a0223.wav\n",
      "Error encountered while parsing file:  /Users/cheffbcookin/Downloads/Bark8K/audio/fold5.0/a0224.wav\n",
      "Error encountered while parsing file:  /Users/cheffbcookin/Downloads/Bark8K/audio/fold5.0/a0225.wav\n",
      "Error encountered while parsing file:  /Users/cheffbcookin/Downloads/Bark8K/audio/fold5.0/a0226.wav\n",
      "Error encountered while parsing file:  /Users/cheffbcookin/Downloads/Bark8K/audio/fold5.0/a0227.wav\n",
      "Error encountered while parsing file:  /Users/cheffbcookin/Downloads/Bark8K/audio/fold5.0/a0228.wav\n",
      "Error encountered while parsing file:  /Users/cheffbcookin/Downloads/Bark8K/audio/fold5.0/a0229.wav\n",
      "Error encountered while parsing file:  /Users/cheffbcookin/Downloads/Bark8K/audio/fold5.0/a0230.wav\n",
      "Error encountered while parsing file:  /Users/cheffbcookin/Downloads/Bark8K/audio/fold5.0/a0231.wav\n"
     ]
    },
    {
     "name": "stderr",
     "output_type": "stream",
     "text": [
      "/Users/cheffbcookin/miniconda3/lib/python3.9/site-packages/librosa/util/decorators.py:88: UserWarning: PySoundFile failed. Trying audioread instead.\n",
      "  return f(*args, **kwargs)\n",
      "/Users/cheffbcookin/miniconda3/lib/python3.9/site-packages/librosa/util/decorators.py:88: UserWarning: PySoundFile failed. Trying audioread instead.\n",
      "  return f(*args, **kwargs)\n",
      "/Users/cheffbcookin/miniconda3/lib/python3.9/site-packages/librosa/util/decorators.py:88: UserWarning: PySoundFile failed. Trying audioread instead.\n",
      "  return f(*args, **kwargs)\n",
      "/Users/cheffbcookin/miniconda3/lib/python3.9/site-packages/librosa/util/decorators.py:88: UserWarning: PySoundFile failed. Trying audioread instead.\n",
      "  return f(*args, **kwargs)\n",
      "/Users/cheffbcookin/miniconda3/lib/python3.9/site-packages/librosa/util/decorators.py:88: UserWarning: PySoundFile failed. Trying audioread instead.\n",
      "  return f(*args, **kwargs)\n",
      "/Users/cheffbcookin/miniconda3/lib/python3.9/site-packages/librosa/util/decorators.py:88: UserWarning: PySoundFile failed. Trying audioread instead.\n",
      "  return f(*args, **kwargs)\n",
      "/Users/cheffbcookin/miniconda3/lib/python3.9/site-packages/librosa/util/decorators.py:88: UserWarning: PySoundFile failed. Trying audioread instead.\n",
      "  return f(*args, **kwargs)\n",
      "/Users/cheffbcookin/miniconda3/lib/python3.9/site-packages/librosa/util/decorators.py:88: UserWarning: PySoundFile failed. Trying audioread instead.\n",
      "  return f(*args, **kwargs)\n"
     ]
    },
    {
     "name": "stdout",
     "output_type": "stream",
     "text": [
      "Error encountered while parsing file:  /Users/cheffbcookin/Downloads/Bark8K/audio/fold5.0/a0232.wav\n",
      "Error encountered while parsing file:  /Users/cheffbcookin/Downloads/Bark8K/audio/fold5.0/a0233.wav\n",
      "Error encountered while parsing file:  /Users/cheffbcookin/Downloads/Bark8K/audio/fold5.0/a0234.wav\n",
      "Error encountered while parsing file:  /Users/cheffbcookin/Downloads/Bark8K/audio/fold5.0/a0235.wav\n",
      "Error encountered while parsing file:  /Users/cheffbcookin/Downloads/Bark8K/audio/fold5.0/a0236.wav\n",
      "Error encountered while parsing file:  /Users/cheffbcookin/Downloads/Bark8K/audio/fold5.0/a0237.wav\n",
      "Error encountered while parsing file:  /Users/cheffbcookin/Downloads/Bark8K/audio/fold5.0/a0238.wav\n",
      "Error encountered while parsing file:  /Users/cheffbcookin/Downloads/Bark8K/audio/fold5.0/a0239.wav\n",
      "Error encountered while parsing file:  /Users/cheffbcookin/Downloads/Bark8K/audio/fold5.0/a0240.wav\n"
     ]
    },
    {
     "name": "stderr",
     "output_type": "stream",
     "text": [
      "/Users/cheffbcookin/miniconda3/lib/python3.9/site-packages/librosa/util/decorators.py:88: UserWarning: PySoundFile failed. Trying audioread instead.\n",
      "  return f(*args, **kwargs)\n",
      "/Users/cheffbcookin/miniconda3/lib/python3.9/site-packages/librosa/util/decorators.py:88: UserWarning: PySoundFile failed. Trying audioread instead.\n",
      "  return f(*args, **kwargs)\n",
      "/Users/cheffbcookin/miniconda3/lib/python3.9/site-packages/librosa/util/decorators.py:88: UserWarning: PySoundFile failed. Trying audioread instead.\n",
      "  return f(*args, **kwargs)\n",
      "/Users/cheffbcookin/miniconda3/lib/python3.9/site-packages/librosa/util/decorators.py:88: UserWarning: PySoundFile failed. Trying audioread instead.\n",
      "  return f(*args, **kwargs)\n",
      "/Users/cheffbcookin/miniconda3/lib/python3.9/site-packages/librosa/util/decorators.py:88: UserWarning: PySoundFile failed. Trying audioread instead.\n",
      "  return f(*args, **kwargs)\n",
      "/Users/cheffbcookin/miniconda3/lib/python3.9/site-packages/librosa/util/decorators.py:88: UserWarning: PySoundFile failed. Trying audioread instead.\n",
      "  return f(*args, **kwargs)\n",
      "/Users/cheffbcookin/miniconda3/lib/python3.9/site-packages/librosa/util/decorators.py:88: UserWarning: PySoundFile failed. Trying audioread instead.\n",
      "  return f(*args, **kwargs)\n",
      "/Users/cheffbcookin/miniconda3/lib/python3.9/site-packages/librosa/util/decorators.py:88: UserWarning: PySoundFile failed. Trying audioread instead.\n",
      "  return f(*args, **kwargs)\n"
     ]
    },
    {
     "name": "stdout",
     "output_type": "stream",
     "text": [
      "Error encountered while parsing file:  /Users/cheffbcookin/Downloads/Bark8K/audio/fold5.0/a0241.wav\n",
      "Error encountered while parsing file:  /Users/cheffbcookin/Downloads/Bark8K/audio/fold5.0/a0241.wav\n",
      "Error encountered while parsing file:  /Users/cheffbcookin/Downloads/Bark8K/audio/fold5.0/a0242.wav\n",
      "Error encountered while parsing file:  /Users/cheffbcookin/Downloads/Bark8K/audio/fold5.0/a0243.wav\n",
      "Error encountered while parsing file:  /Users/cheffbcookin/Downloads/Bark8K/audio/fold5.0/a0244.wav\n",
      "Error encountered while parsing file:  /Users/cheffbcookin/Downloads/Bark8K/audio/fold5.0/a0245.wav\n",
      "Error encountered while parsing file:  /Users/cheffbcookin/Downloads/Bark8K/audio/fold5.0/a0246.wav\n",
      "Error encountered while parsing file:  /Users/cheffbcookin/Downloads/Bark8K/audio/fold5.0/a0247.wav\n"
     ]
    },
    {
     "name": "stderr",
     "output_type": "stream",
     "text": [
      "/Users/cheffbcookin/miniconda3/lib/python3.9/site-packages/librosa/util/decorators.py:88: UserWarning: PySoundFile failed. Trying audioread instead.\n",
      "  return f(*args, **kwargs)\n",
      "/Users/cheffbcookin/miniconda3/lib/python3.9/site-packages/librosa/util/decorators.py:88: UserWarning: PySoundFile failed. Trying audioread instead.\n",
      "  return f(*args, **kwargs)\n",
      "/Users/cheffbcookin/miniconda3/lib/python3.9/site-packages/librosa/util/decorators.py:88: UserWarning: PySoundFile failed. Trying audioread instead.\n",
      "  return f(*args, **kwargs)\n",
      "/Users/cheffbcookin/miniconda3/lib/python3.9/site-packages/librosa/util/decorators.py:88: UserWarning: PySoundFile failed. Trying audioread instead.\n",
      "  return f(*args, **kwargs)\n",
      "/Users/cheffbcookin/miniconda3/lib/python3.9/site-packages/librosa/util/decorators.py:88: UserWarning: PySoundFile failed. Trying audioread instead.\n",
      "  return f(*args, **kwargs)\n",
      "/Users/cheffbcookin/miniconda3/lib/python3.9/site-packages/librosa/util/decorators.py:88: UserWarning: PySoundFile failed. Trying audioread instead.\n",
      "  return f(*args, **kwargs)\n",
      "/Users/cheffbcookin/miniconda3/lib/python3.9/site-packages/librosa/util/decorators.py:88: UserWarning: PySoundFile failed. Trying audioread instead.\n",
      "  return f(*args, **kwargs)\n"
     ]
    },
    {
     "name": "stdout",
     "output_type": "stream",
     "text": [
      "Error encountered while parsing file:  /Users/cheffbcookin/Downloads/Bark8K/audio/fold5.0/a0248.wav\n",
      "Error encountered while parsing file:  /Users/cheffbcookin/Downloads/Bark8K/audio/fold5.0/a0249.wav\n",
      "Error encountered while parsing file:  /Users/cheffbcookin/Downloads/Bark8K/audio/fold5.0/a0250.wav\n",
      "Error encountered while parsing file:  /Users/cheffbcookin/Downloads/Bark8K/audio/fold5.0/a0251.wav\n",
      "Error encountered while parsing file:  /Users/cheffbcookin/Downloads/Bark8K/audio/fold5.0/a0252.wav\n",
      "Error encountered while parsing file:  /Users/cheffbcookin/Downloads/Bark8K/audio/fold5.0/a0253.wav\n",
      "Error encountered while parsing file:  /Users/cheffbcookin/Downloads/Bark8K/audio/fold5.0/a0254.wav\n"
     ]
    },
    {
     "name": "stderr",
     "output_type": "stream",
     "text": [
      "/Users/cheffbcookin/miniconda3/lib/python3.9/site-packages/librosa/util/decorators.py:88: UserWarning: PySoundFile failed. Trying audioread instead.\n",
      "  return f(*args, **kwargs)\n",
      "/Users/cheffbcookin/miniconda3/lib/python3.9/site-packages/librosa/util/decorators.py:88: UserWarning: PySoundFile failed. Trying audioread instead.\n",
      "  return f(*args, **kwargs)\n",
      "/Users/cheffbcookin/miniconda3/lib/python3.9/site-packages/librosa/util/decorators.py:88: UserWarning: PySoundFile failed. Trying audioread instead.\n",
      "  return f(*args, **kwargs)\n",
      "/Users/cheffbcookin/miniconda3/lib/python3.9/site-packages/librosa/util/decorators.py:88: UserWarning: PySoundFile failed. Trying audioread instead.\n",
      "  return f(*args, **kwargs)\n",
      "/Users/cheffbcookin/miniconda3/lib/python3.9/site-packages/librosa/util/decorators.py:88: UserWarning: PySoundFile failed. Trying audioread instead.\n",
      "  return f(*args, **kwargs)\n",
      "/Users/cheffbcookin/miniconda3/lib/python3.9/site-packages/librosa/util/decorators.py:88: UserWarning: PySoundFile failed. Trying audioread instead.\n",
      "  return f(*args, **kwargs)\n",
      "/Users/cheffbcookin/miniconda3/lib/python3.9/site-packages/librosa/util/decorators.py:88: UserWarning: PySoundFile failed. Trying audioread instead.\n",
      "  return f(*args, **kwargs)\n"
     ]
    },
    {
     "name": "stdout",
     "output_type": "stream",
     "text": [
      "Error encountered while parsing file:  /Users/cheffbcookin/Downloads/Bark8K/audio/fold5.0/a0255.wav\n",
      "Error encountered while parsing file:  /Users/cheffbcookin/Downloads/Bark8K/audio/fold5.0/a0256.wav\n",
      "Error encountered while parsing file:  /Users/cheffbcookin/Downloads/Bark8K/audio/fold5.0/a0257.wav\n",
      "Error encountered while parsing file:  /Users/cheffbcookin/Downloads/Bark8K/audio/fold5.0/a0258.wav\n",
      "Error encountered while parsing file:  /Users/cheffbcookin/Downloads/Bark8K/audio/fold5.0/a0259.wav\n",
      "Error encountered while parsing file:  /Users/cheffbcookin/Downloads/Bark8K/audio/fold5.0/a0260.wav\n",
      "Error encountered while parsing file:  /Users/cheffbcookin/Downloads/Bark8K/audio/fold5.0/a0261.wav\n",
      "Error encountered while parsing file:  /Users/cheffbcookin/Downloads/Bark8K/audio/fold5.0/a0262.wav\n"
     ]
    },
    {
     "name": "stderr",
     "output_type": "stream",
     "text": [
      "/Users/cheffbcookin/miniconda3/lib/python3.9/site-packages/librosa/util/decorators.py:88: UserWarning: PySoundFile failed. Trying audioread instead.\n",
      "  return f(*args, **kwargs)\n",
      "/Users/cheffbcookin/miniconda3/lib/python3.9/site-packages/librosa/util/decorators.py:88: UserWarning: PySoundFile failed. Trying audioread instead.\n",
      "  return f(*args, **kwargs)\n",
      "/Users/cheffbcookin/miniconda3/lib/python3.9/site-packages/librosa/util/decorators.py:88: UserWarning: PySoundFile failed. Trying audioread instead.\n",
      "  return f(*args, **kwargs)\n",
      "/Users/cheffbcookin/miniconda3/lib/python3.9/site-packages/librosa/util/decorators.py:88: UserWarning: PySoundFile failed. Trying audioread instead.\n",
      "  return f(*args, **kwargs)\n",
      "/Users/cheffbcookin/miniconda3/lib/python3.9/site-packages/librosa/util/decorators.py:88: UserWarning: PySoundFile failed. Trying audioread instead.\n",
      "  return f(*args, **kwargs)\n",
      "/Users/cheffbcookin/miniconda3/lib/python3.9/site-packages/librosa/util/decorators.py:88: UserWarning: PySoundFile failed. Trying audioread instead.\n",
      "  return f(*args, **kwargs)\n",
      "/Users/cheffbcookin/miniconda3/lib/python3.9/site-packages/librosa/util/decorators.py:88: UserWarning: PySoundFile failed. Trying audioread instead.\n",
      "  return f(*args, **kwargs)\n"
     ]
    },
    {
     "name": "stdout",
     "output_type": "stream",
     "text": [
      "Error encountered while parsing file:  /Users/cheffbcookin/Downloads/Bark8K/audio/fold5.0/a0263.wav\n",
      "Error encountered while parsing file:  /Users/cheffbcookin/Downloads/Bark8K/audio/fold5.0/a0264.wav\n",
      "Error encountered while parsing file:  /Users/cheffbcookin/Downloads/Bark8K/audio/fold5.0/a0265.wav\n",
      "Error encountered while parsing file:  /Users/cheffbcookin/Downloads/Bark8K/audio/fold5.0/a0266.wav\n",
      "Error encountered while parsing file:  /Users/cheffbcookin/Downloads/Bark8K/audio/fold5.0/a0267.wav\n",
      "Error encountered while parsing file:  /Users/cheffbcookin/Downloads/Bark8K/audio/fold5.0/a0268.wav\n",
      "Error encountered while parsing file:  /Users/cheffbcookin/Downloads/Bark8K/audio/fold5.0/a0269.wav\n",
      "Error encountered while parsing file:  /Users/cheffbcookin/Downloads/Bark8K/audio/fold5.0/a0270.wav\n"
     ]
    },
    {
     "name": "stderr",
     "output_type": "stream",
     "text": [
      "/Users/cheffbcookin/miniconda3/lib/python3.9/site-packages/librosa/util/decorators.py:88: UserWarning: PySoundFile failed. Trying audioread instead.\n",
      "  return f(*args, **kwargs)\n",
      "/Users/cheffbcookin/miniconda3/lib/python3.9/site-packages/librosa/util/decorators.py:88: UserWarning: PySoundFile failed. Trying audioread instead.\n",
      "  return f(*args, **kwargs)\n",
      "/Users/cheffbcookin/miniconda3/lib/python3.9/site-packages/librosa/util/decorators.py:88: UserWarning: PySoundFile failed. Trying audioread instead.\n",
      "  return f(*args, **kwargs)\n",
      "/Users/cheffbcookin/miniconda3/lib/python3.9/site-packages/librosa/util/decorators.py:88: UserWarning: PySoundFile failed. Trying audioread instead.\n",
      "  return f(*args, **kwargs)\n",
      "/Users/cheffbcookin/miniconda3/lib/python3.9/site-packages/librosa/util/decorators.py:88: UserWarning: PySoundFile failed. Trying audioread instead.\n",
      "  return f(*args, **kwargs)\n",
      "/Users/cheffbcookin/miniconda3/lib/python3.9/site-packages/librosa/util/decorators.py:88: UserWarning: PySoundFile failed. Trying audioread instead.\n",
      "  return f(*args, **kwargs)\n",
      "/Users/cheffbcookin/miniconda3/lib/python3.9/site-packages/librosa/util/decorators.py:88: UserWarning: PySoundFile failed. Trying audioread instead.\n",
      "  return f(*args, **kwargs)\n"
     ]
    },
    {
     "name": "stdout",
     "output_type": "stream",
     "text": [
      "Error encountered while parsing file:  /Users/cheffbcookin/Downloads/Bark8K/audio/fold5.0/a0271.wav\n",
      "Error encountered while parsing file:  /Users/cheffbcookin/Downloads/Bark8K/audio/fold5.0/a0272.wav\n",
      "Error encountered while parsing file:  /Users/cheffbcookin/Downloads/Bark8K/audio/fold5.0/a0273.wav\n",
      "Error encountered while parsing file:  /Users/cheffbcookin/Downloads/Bark8K/audio/fold5.0/a0274.wav\n",
      "Error encountered while parsing file:  /Users/cheffbcookin/Downloads/Bark8K/audio/fold5.0/a0275.wav\n",
      "Error encountered while parsing file:  /Users/cheffbcookin/Downloads/Bark8K/audio/fold5.0/a0276.wav\n",
      "Error encountered while parsing file:  /Users/cheffbcookin/Downloads/Bark8K/audio/fold5.0/a0277.wav\n"
     ]
    },
    {
     "name": "stderr",
     "output_type": "stream",
     "text": [
      "/Users/cheffbcookin/miniconda3/lib/python3.9/site-packages/librosa/util/decorators.py:88: UserWarning: PySoundFile failed. Trying audioread instead.\n",
      "  return f(*args, **kwargs)\n",
      "/Users/cheffbcookin/miniconda3/lib/python3.9/site-packages/librosa/util/decorators.py:88: UserWarning: PySoundFile failed. Trying audioread instead.\n",
      "  return f(*args, **kwargs)\n",
      "/Users/cheffbcookin/miniconda3/lib/python3.9/site-packages/librosa/util/decorators.py:88: UserWarning: PySoundFile failed. Trying audioread instead.\n",
      "  return f(*args, **kwargs)\n",
      "/Users/cheffbcookin/miniconda3/lib/python3.9/site-packages/librosa/util/decorators.py:88: UserWarning: PySoundFile failed. Trying audioread instead.\n",
      "  return f(*args, **kwargs)\n",
      "/Users/cheffbcookin/miniconda3/lib/python3.9/site-packages/librosa/util/decorators.py:88: UserWarning: PySoundFile failed. Trying audioread instead.\n",
      "  return f(*args, **kwargs)\n",
      "/Users/cheffbcookin/miniconda3/lib/python3.9/site-packages/librosa/util/decorators.py:88: UserWarning: PySoundFile failed. Trying audioread instead.\n",
      "  return f(*args, **kwargs)\n",
      "/Users/cheffbcookin/miniconda3/lib/python3.9/site-packages/librosa/util/decorators.py:88: UserWarning: PySoundFile failed. Trying audioread instead.\n",
      "  return f(*args, **kwargs)\n"
     ]
    },
    {
     "name": "stdout",
     "output_type": "stream",
     "text": [
      "Error encountered while parsing file:  /Users/cheffbcookin/Downloads/Bark8K/audio/fold5.0/a0278.wav\n",
      "Error encountered while parsing file:  /Users/cheffbcookin/Downloads/Bark8K/audio/fold5.0/a0279.wav\n",
      "Error encountered while parsing file:  /Users/cheffbcookin/Downloads/Bark8K/audio/fold5.0/a0280.wav\n",
      "Error encountered while parsing file:  /Users/cheffbcookin/Downloads/Bark8K/audio/fold5.0/a0281.wav\n",
      "Error encountered while parsing file:  /Users/cheffbcookin/Downloads/Bark8K/audio/fold5.0/a0282.wav\n",
      "Error encountered while parsing file:  /Users/cheffbcookin/Downloads/Bark8K/audio/fold5.0/a0283.wav\n",
      "Error encountered while parsing file:  /Users/cheffbcookin/Downloads/Bark8K/audio/fold5.0/a0284.wav\n"
     ]
    },
    {
     "name": "stderr",
     "output_type": "stream",
     "text": [
      "/Users/cheffbcookin/miniconda3/lib/python3.9/site-packages/librosa/util/decorators.py:88: UserWarning: PySoundFile failed. Trying audioread instead.\n",
      "  return f(*args, **kwargs)\n",
      "/Users/cheffbcookin/miniconda3/lib/python3.9/site-packages/librosa/util/decorators.py:88: UserWarning: PySoundFile failed. Trying audioread instead.\n",
      "  return f(*args, **kwargs)\n",
      "/Users/cheffbcookin/miniconda3/lib/python3.9/site-packages/librosa/util/decorators.py:88: UserWarning: PySoundFile failed. Trying audioread instead.\n",
      "  return f(*args, **kwargs)\n",
      "/Users/cheffbcookin/miniconda3/lib/python3.9/site-packages/librosa/util/decorators.py:88: UserWarning: PySoundFile failed. Trying audioread instead.\n",
      "  return f(*args, **kwargs)\n",
      "/Users/cheffbcookin/miniconda3/lib/python3.9/site-packages/librosa/util/decorators.py:88: UserWarning: PySoundFile failed. Trying audioread instead.\n",
      "  return f(*args, **kwargs)\n",
      "/Users/cheffbcookin/miniconda3/lib/python3.9/site-packages/librosa/util/decorators.py:88: UserWarning: PySoundFile failed. Trying audioread instead.\n",
      "  return f(*args, **kwargs)\n",
      "/Users/cheffbcookin/miniconda3/lib/python3.9/site-packages/librosa/util/decorators.py:88: UserWarning: PySoundFile failed. Trying audioread instead.\n",
      "  return f(*args, **kwargs)\n"
     ]
    },
    {
     "name": "stdout",
     "output_type": "stream",
     "text": [
      "Error encountered while parsing file:  /Users/cheffbcookin/Downloads/Bark8K/audio/fold5.0/a0285.wav\n",
      "Error encountered while parsing file:  /Users/cheffbcookin/Downloads/Bark8K/audio/fold5.0/a0286.wav\n",
      "Error encountered while parsing file:  /Users/cheffbcookin/Downloads/Bark8K/audio/foldnan/a0287.wav\n",
      "Error encountered while parsing file:  /Users/cheffbcookin/Downloads/Bark8K/audio/foldnan/a0288.wav\n",
      "Error encountered while parsing file:  /Users/cheffbcookin/Downloads/Bark8K/audio/foldnan/a0289.wav\n",
      "Error encountered while parsing file:  /Users/cheffbcookin/Downloads/Bark8K/audio/foldnan/a0290.wav\n",
      "Error encountered while parsing file:  /Users/cheffbcookin/Downloads/Bark8K/audio/foldnan/a0291.wav\n"
     ]
    },
    {
     "name": "stderr",
     "output_type": "stream",
     "text": [
      "/Users/cheffbcookin/miniconda3/lib/python3.9/site-packages/librosa/util/decorators.py:88: UserWarning: PySoundFile failed. Trying audioread instead.\n",
      "  return f(*args, **kwargs)\n",
      "/Users/cheffbcookin/miniconda3/lib/python3.9/site-packages/librosa/util/decorators.py:88: UserWarning: PySoundFile failed. Trying audioread instead.\n",
      "  return f(*args, **kwargs)\n",
      "/Users/cheffbcookin/miniconda3/lib/python3.9/site-packages/librosa/util/decorators.py:88: UserWarning: PySoundFile failed. Trying audioread instead.\n",
      "  return f(*args, **kwargs)\n",
      "/Users/cheffbcookin/miniconda3/lib/python3.9/site-packages/librosa/util/decorators.py:88: UserWarning: PySoundFile failed. Trying audioread instead.\n",
      "  return f(*args, **kwargs)\n",
      "/Users/cheffbcookin/miniconda3/lib/python3.9/site-packages/librosa/util/decorators.py:88: UserWarning: PySoundFile failed. Trying audioread instead.\n",
      "  return f(*args, **kwargs)\n",
      "/Users/cheffbcookin/miniconda3/lib/python3.9/site-packages/librosa/util/decorators.py:88: UserWarning: PySoundFile failed. Trying audioread instead.\n",
      "  return f(*args, **kwargs)\n",
      "/Users/cheffbcookin/miniconda3/lib/python3.9/site-packages/librosa/util/decorators.py:88: UserWarning: PySoundFile failed. Trying audioread instead.\n",
      "  return f(*args, **kwargs)\n"
     ]
    },
    {
     "name": "stdout",
     "output_type": "stream",
     "text": [
      "Error encountered while parsing file:  /Users/cheffbcookin/Downloads/Bark8K/audio/foldnan/a0292.wav\n",
      "Error encountered while parsing file:  /Users/cheffbcookin/Downloads/Bark8K/audio/foldnan/a0293.wav\n",
      "Error encountered while parsing file:  /Users/cheffbcookin/Downloads/Bark8K/audio/foldnan/a0294.wav\n",
      "Error encountered while parsing file:  /Users/cheffbcookin/Downloads/Bark8K/audio/foldnan/a0295.wav\n",
      "Error encountered while parsing file:  /Users/cheffbcookin/Downloads/Bark8K/audio/foldnan/a0296.wav\n",
      "Error encountered while parsing file:  /Users/cheffbcookin/Downloads/Bark8K/audio/foldnan/a0297.wav\n",
      "Error encountered while parsing file:  /Users/cheffbcookin/Downloads/Bark8K/audio/foldnan/a0298.wav\n"
     ]
    },
    {
     "name": "stderr",
     "output_type": "stream",
     "text": [
      "/Users/cheffbcookin/miniconda3/lib/python3.9/site-packages/librosa/util/decorators.py:88: UserWarning: PySoundFile failed. Trying audioread instead.\n",
      "  return f(*args, **kwargs)\n",
      "/Users/cheffbcookin/miniconda3/lib/python3.9/site-packages/librosa/util/decorators.py:88: UserWarning: PySoundFile failed. Trying audioread instead.\n",
      "  return f(*args, **kwargs)\n",
      "/Users/cheffbcookin/miniconda3/lib/python3.9/site-packages/librosa/util/decorators.py:88: UserWarning: PySoundFile failed. Trying audioread instead.\n",
      "  return f(*args, **kwargs)\n",
      "/Users/cheffbcookin/miniconda3/lib/python3.9/site-packages/librosa/util/decorators.py:88: UserWarning: PySoundFile failed. Trying audioread instead.\n",
      "  return f(*args, **kwargs)\n",
      "/Users/cheffbcookin/miniconda3/lib/python3.9/site-packages/librosa/util/decorators.py:88: UserWarning: PySoundFile failed. Trying audioread instead.\n",
      "  return f(*args, **kwargs)\n",
      "/Users/cheffbcookin/miniconda3/lib/python3.9/site-packages/librosa/util/decorators.py:88: UserWarning: PySoundFile failed. Trying audioread instead.\n",
      "  return f(*args, **kwargs)\n",
      "/Users/cheffbcookin/miniconda3/lib/python3.9/site-packages/librosa/util/decorators.py:88: UserWarning: PySoundFile failed. Trying audioread instead.\n",
      "  return f(*args, **kwargs)\n"
     ]
    },
    {
     "name": "stdout",
     "output_type": "stream",
     "text": [
      "Error encountered while parsing file:  /Users/cheffbcookin/Downloads/Bark8K/audio/foldnan/a0299.wav\n",
      "Error encountered while parsing file:  /Users/cheffbcookin/Downloads/Bark8K/audio/foldnan/a0300.wav\n",
      "Error encountered while parsing file:  /Users/cheffbcookin/Downloads/Bark8K/audio/foldnan/a0301.wav\n",
      "Error encountered while parsing file:  /Users/cheffbcookin/Downloads/Bark8K/audio/foldnan/a0302.wav\n",
      "Error encountered while parsing file:  /Users/cheffbcookin/Downloads/Bark8K/audio/foldnan/a0303.wav\n",
      "Error encountered while parsing file:  /Users/cheffbcookin/Downloads/Bark8K/audio/foldnan/a0304.wav\n",
      "Error encountered while parsing file:  /Users/cheffbcookin/Downloads/Bark8K/audio/foldnan/a0305.wav\n"
     ]
    },
    {
     "name": "stderr",
     "output_type": "stream",
     "text": [
      "/Users/cheffbcookin/miniconda3/lib/python3.9/site-packages/librosa/util/decorators.py:88: UserWarning: PySoundFile failed. Trying audioread instead.\n",
      "  return f(*args, **kwargs)\n",
      "/Users/cheffbcookin/miniconda3/lib/python3.9/site-packages/librosa/util/decorators.py:88: UserWarning: PySoundFile failed. Trying audioread instead.\n",
      "  return f(*args, **kwargs)\n",
      "/Users/cheffbcookin/miniconda3/lib/python3.9/site-packages/librosa/util/decorators.py:88: UserWarning: PySoundFile failed. Trying audioread instead.\n",
      "  return f(*args, **kwargs)\n",
      "/Users/cheffbcookin/miniconda3/lib/python3.9/site-packages/librosa/util/decorators.py:88: UserWarning: PySoundFile failed. Trying audioread instead.\n",
      "  return f(*args, **kwargs)\n",
      "/Users/cheffbcookin/miniconda3/lib/python3.9/site-packages/librosa/util/decorators.py:88: UserWarning: PySoundFile failed. Trying audioread instead.\n",
      "  return f(*args, **kwargs)\n",
      "/Users/cheffbcookin/miniconda3/lib/python3.9/site-packages/librosa/util/decorators.py:88: UserWarning: PySoundFile failed. Trying audioread instead.\n",
      "  return f(*args, **kwargs)\n",
      "/Users/cheffbcookin/miniconda3/lib/python3.9/site-packages/librosa/util/decorators.py:88: UserWarning: PySoundFile failed. Trying audioread instead.\n",
      "  return f(*args, **kwargs)\n",
      "/Users/cheffbcookin/miniconda3/lib/python3.9/site-packages/librosa/util/decorators.py:88: UserWarning: PySoundFile failed. Trying audioread instead.\n",
      "  return f(*args, **kwargs)\n"
     ]
    },
    {
     "name": "stdout",
     "output_type": "stream",
     "text": [
      "Error encountered while parsing file:  /Users/cheffbcookin/Downloads/Bark8K/audio/foldnan/a0306.wav\n",
      "Error encountered while parsing file:  /Users/cheffbcookin/Downloads/Bark8K/audio/foldnan/a0307.wav\n",
      "Error encountered while parsing file:  /Users/cheffbcookin/Downloads/Bark8K/audio/foldnan/a0308.wav\n",
      "Error encountered while parsing file:  /Users/cheffbcookin/Downloads/Bark8K/audio/foldnan/a0309.wav\n",
      "Error encountered while parsing file:  /Users/cheffbcookin/Downloads/Bark8K/audio/foldnan/a0310.wav\n",
      "Error encountered while parsing file:  /Users/cheffbcookin/Downloads/Bark8K/audio/foldnan/a0311.wav\n",
      "Error encountered while parsing file:  /Users/cheffbcookin/Downloads/Bark8K/audio/foldnan/a0312.wav\n",
      "Error encountered while parsing file:  /Users/cheffbcookin/Downloads/Bark8K/audio/foldnan/a0313.wav\n"
     ]
    },
    {
     "name": "stderr",
     "output_type": "stream",
     "text": [
      "/Users/cheffbcookin/miniconda3/lib/python3.9/site-packages/librosa/util/decorators.py:88: UserWarning: PySoundFile failed. Trying audioread instead.\n",
      "  return f(*args, **kwargs)\n",
      "/Users/cheffbcookin/miniconda3/lib/python3.9/site-packages/librosa/util/decorators.py:88: UserWarning: PySoundFile failed. Trying audioread instead.\n",
      "  return f(*args, **kwargs)\n",
      "/Users/cheffbcookin/miniconda3/lib/python3.9/site-packages/librosa/util/decorators.py:88: UserWarning: PySoundFile failed. Trying audioread instead.\n",
      "  return f(*args, **kwargs)\n",
      "/Users/cheffbcookin/miniconda3/lib/python3.9/site-packages/librosa/util/decorators.py:88: UserWarning: PySoundFile failed. Trying audioread instead.\n",
      "  return f(*args, **kwargs)\n",
      "/Users/cheffbcookin/miniconda3/lib/python3.9/site-packages/librosa/util/decorators.py:88: UserWarning: PySoundFile failed. Trying audioread instead.\n",
      "  return f(*args, **kwargs)\n",
      "/Users/cheffbcookin/miniconda3/lib/python3.9/site-packages/librosa/util/decorators.py:88: UserWarning: PySoundFile failed. Trying audioread instead.\n",
      "  return f(*args, **kwargs)\n",
      "/Users/cheffbcookin/miniconda3/lib/python3.9/site-packages/librosa/util/decorators.py:88: UserWarning: PySoundFile failed. Trying audioread instead.\n",
      "  return f(*args, **kwargs)\n",
      "/Users/cheffbcookin/miniconda3/lib/python3.9/site-packages/librosa/util/decorators.py:88: UserWarning: PySoundFile failed. Trying audioread instead.\n",
      "  return f(*args, **kwargs)\n"
     ]
    },
    {
     "name": "stdout",
     "output_type": "stream",
     "text": [
      "Error encountered while parsing file:  /Users/cheffbcookin/Downloads/Bark8K/audio/foldnan/a0314.wav\n",
      "Error encountered while parsing file:  /Users/cheffbcookin/Downloads/Bark8K/audio/foldnan/a0315.wav\n",
      "Error encountered while parsing file:  /Users/cheffbcookin/Downloads/Bark8K/audio/foldnan/a0316.wav\n",
      "Error encountered while parsing file:  /Users/cheffbcookin/Downloads/Bark8K/audio/foldnan/a0317.wav\n",
      "Error encountered while parsing file:  /Users/cheffbcookin/Downloads/Bark8K/audio/foldnan/a0318.wav\n",
      "Error encountered while parsing file:  /Users/cheffbcookin/Downloads/Bark8K/audio/foldnan/a0319.wav\n",
      "Error encountered while parsing file:  /Users/cheffbcookin/Downloads/Bark8K/audio/foldnan/a0320.wav\n"
     ]
    },
    {
     "name": "stderr",
     "output_type": "stream",
     "text": [
      "/Users/cheffbcookin/miniconda3/lib/python3.9/site-packages/librosa/util/decorators.py:88: UserWarning: PySoundFile failed. Trying audioread instead.\n",
      "  return f(*args, **kwargs)\n",
      "/Users/cheffbcookin/miniconda3/lib/python3.9/site-packages/librosa/util/decorators.py:88: UserWarning: PySoundFile failed. Trying audioread instead.\n",
      "  return f(*args, **kwargs)\n",
      "/Users/cheffbcookin/miniconda3/lib/python3.9/site-packages/librosa/util/decorators.py:88: UserWarning: PySoundFile failed. Trying audioread instead.\n",
      "  return f(*args, **kwargs)\n",
      "/Users/cheffbcookin/miniconda3/lib/python3.9/site-packages/librosa/util/decorators.py:88: UserWarning: PySoundFile failed. Trying audioread instead.\n",
      "  return f(*args, **kwargs)\n",
      "/Users/cheffbcookin/miniconda3/lib/python3.9/site-packages/librosa/util/decorators.py:88: UserWarning: PySoundFile failed. Trying audioread instead.\n",
      "  return f(*args, **kwargs)\n",
      "/Users/cheffbcookin/miniconda3/lib/python3.9/site-packages/librosa/util/decorators.py:88: UserWarning: PySoundFile failed. Trying audioread instead.\n",
      "  return f(*args, **kwargs)\n",
      "/Users/cheffbcookin/miniconda3/lib/python3.9/site-packages/librosa/util/decorators.py:88: UserWarning: PySoundFile failed. Trying audioread instead.\n",
      "  return f(*args, **kwargs)\n"
     ]
    },
    {
     "name": "stdout",
     "output_type": "stream",
     "text": [
      "Error encountered while parsing file:  /Users/cheffbcookin/Downloads/Bark8K/audio/foldnan/a0321.wav\n",
      "Error encountered while parsing file:  /Users/cheffbcookin/Downloads/Bark8K/audio/foldnan/a0322.wav\n",
      "Error encountered while parsing file:  /Users/cheffbcookin/Downloads/Bark8K/audio/foldnan/a0323.wav\n",
      "Error encountered while parsing file:  /Users/cheffbcookin/Downloads/Bark8K/audio/foldnan/a0324.wav\n",
      "Error encountered while parsing file:  /Users/cheffbcookin/Downloads/Bark8K/audio/foldnan/a0325.wav\n",
      "Error encountered while parsing file:  /Users/cheffbcookin/Downloads/Bark8K/audio/foldnan/a0326.wav\n",
      "Finished feature extraction from  324  files\n"
     ]
    },
    {
     "name": "stderr",
     "output_type": "stream",
     "text": [
      "/Users/cheffbcookin/miniconda3/lib/python3.9/site-packages/librosa/util/decorators.py:88: UserWarning: PySoundFile failed. Trying audioread instead.\n",
      "  return f(*args, **kwargs)\n",
      "/Users/cheffbcookin/miniconda3/lib/python3.9/site-packages/librosa/util/decorators.py:88: UserWarning: PySoundFile failed. Trying audioread instead.\n",
      "  return f(*args, **kwargs)\n"
     ]
    }
   ],
   "source": [
    "# Load various imports \n",
    "import pandas as pd\n",
    "import os\n",
    "import librosa\n",
    "\n",
    "# Set the path to the full (Collected Audio) dataset \n",
    "fulldatasetpath = './audio/'\n",
    "metadata = pd.read_csv('./metadata/BarkClassification.csv')\n",
    "\n",
    "features = []\n",
    "\n",
    "# Iterate through each sound file and extract the features \n",
    "for index, row in metadata.iterrows():\n",
    "    \n",
    "    file_name = os.path.join(\n",
    "        os.path.abspath(fulldatasetpath),\n",
    "        'fold' + str(row[\"fold\"]) + '/',\n",
    "        str(row[\"slice_file_name\"])\n",
    "    )\n",
    "    \n",
    "    class_label = row[\"class\"]\n",
    "    data = extract_features(file_name)\n",
    "    \n",
    "    features.append([data, class_label])\n",
    "\n",
    "# Convert into a Panda dataframe \n",
    "featuresdf = pd.DataFrame(features, columns=['feature','class'])\n",
    "\n",
    "print('Finished feature extraction from ', len(featuresdf), ' files')"
   ]
  },
  {
   "cell_type": "code",
   "execution_count": 4,
   "metadata": {},
   "outputs": [
    {
     "name": "stdout",
     "output_type": "stream",
     "text": [
      "                                              feature  class\n",
      "0   [-297.32516, 107.464455, -26.3119, -12.87065, ...   bark\n",
      "1   [-140.45497, 147.66714, -13.780469, 14.372416,...   bark\n",
      "2   [-218.77664, 128.20438, -51.991787, 34.948475,...   bark\n",
      "3   [-378.1252, 71.67057, -30.256453, 3.4482138, 1...   bark\n",
      "4   [-335.36185, 70.269325, -27.649414, 3.4183466,...  whine\n",
      "..                                                ...    ...\n",
      "76  [-221.01114, 41.571697, -8.144385, 8.533633, -...  whine\n",
      "77  [-487.88504, 31.741295, -24.843826, -10.540436...  whine\n",
      "78  [-483.76105, 41.022457, -19.78429, -11.295487,...  whine\n",
      "79  [-190.88048, 81.67151, -67.20791, -15.143007, ...   bark\n",
      "80  [-504.39554, 32.442036, -8.413193, -12.1204, -...   bark\n",
      "\n",
      "[81 rows x 2 columns]\n"
     ]
    }
   ],
   "source": [
    "print(featuresdf)"
   ]
  },
  {
   "cell_type": "code",
   "execution_count": null,
   "metadata": {},
   "outputs": [],
   "source": [
    "pip install keras"
   ]
  },
  {
   "cell_type": "code",
   "execution_count": null,
   "metadata": {},
   "outputs": [],
   "source": [
    "pip install tensorflow"
   ]
  },
  {
   "cell_type": "code",
   "execution_count": 19,
   "metadata": {},
   "outputs": [
    {
     "name": "stdout",
     "output_type": "stream",
     "text": [
      "Requirement already satisfied: NumPy in /Users/cheffbcookin/miniconda3/lib/python3.9/site-packages (1.20.3)\n",
      "Note: you may need to restart the kernel to use updated packages.\n"
     ]
    }
   ],
   "source": [
    "pip install NumPy"
   ]
  },
  {
   "cell_type": "markdown",
   "metadata": {},
   "source": [
    "#### Convert the data and labels"
   ]
  },
  {
   "cell_type": "code",
   "execution_count": 5,
   "metadata": {},
   "outputs": [],
   "source": [
    "from sklearn.preprocessing import LabelEncoder\n",
    "from tensorflow.keras.utils import to_categorical\n",
    "\n",
    "# Convert features and corresponding classification labels into numpy arrays\n",
    "X = np.array(featuresdf.feature.tolist())\n",
    "class_list = featuresdf['class']\n",
    "y = np.array(class_list.tolist())\n",
    "\n",
    "# Encode the classification labels\n",
    "le = LabelEncoder()\n",
    "yy = to_categorical(le.fit_transform(y))"
   ]
  },
  {
   "cell_type": "markdown",
   "metadata": {},
   "source": [
    "#### Split the dataset"
   ]
  },
  {
   "cell_type": "code",
   "execution_count": 67,
   "metadata": {},
   "outputs": [],
   "source": [
    "# split the dataset \n",
    "from sklearn.model_selection import train_test_split \n",
    "import tensorflow as tf\n",
    "\n",
    "x_train, x_test, y_train, y_test = train_test_split(X, yy, test_size=0.4, random_state = 42)\n"
   ]
  },
  {
   "cell_type": "markdown",
   "metadata": {},
   "source": [
    "### Training and Evaluation"
   ]
  },
  {
   "cell_type": "code",
   "execution_count": 98,
   "metadata": {},
   "outputs": [],
   "source": [
    "import numpy as np\n",
    "from keras.models import Sequential\n",
    "from keras.layers import LSTM\n",
    "from keras.layers import Dense, Dropout, Activation, Flatten\n",
    "from keras.layers import Convolution2D, MaxPooling2D\n",
    "from tensorflow.keras.optimizers import Adam\n",
    "from keras.utils import np_utils\n",
    "from sklearn import metrics \n",
    "\n",
    "# import numpy as np\n",
    "# %matplotlib inline\n",
    "# import matplotlib.image as mpimg\n",
    "# import matplotlib.pyplot as plt\n",
    "# import tensorflow as tf\n",
    "# tf.compat.v1.set_random_seed(2019)\n",
    "\n",
    "num_labels = yy.shape[1]\n",
    "filter_size = 2\n",
    "\n",
    "#Construct model \n",
    "model = Sequential()\n",
    "\n",
    "model.add(LSTM(100))\n",
    "model.add(Dense(256, input_shape=(40,)))\n",
    "model.add(Activation('relu'))\n",
    "model.add(Dropout(0.6))\n",
    "\n",
    "\n",
    "model.add(Dense(256))\n",
    "model.add(Activation('relu'))\n",
    "model.add(Dropout(0.5))\n",
    "\n",
    "# model.add(Dense(256))\n",
    "# model.add(Activation('relu'))\n",
    "# model.add(Dropout(0.5))\n",
    "\n",
    "model.add(Dense(num_labels))\n",
    "model.add(Activation('softmax'))\n",
    "\n",
    "# model = tf.keras.models.Sequential([\n",
    "#     tf.keras.layers.Conv1D(16,(1),activation = \"relu\" , input_shape = (40,1)) ,\n",
    "#     tf.keras.layers.MaxPooling1D(2),\n",
    "#     tf.keras.layers.Conv1D(32,(3),activation = \"relu\") ,  \n",
    "#     tf.keras.layers.AveragePooling1D(2),\n",
    "#     tf.keras.layers.Conv1D(64,(2),activation = \"relu\") ,  \n",
    "#     tf.keras.layers.MaxPooling1D(2),\n",
    "#     tf.keras.layers.Conv1D(128,(1),activation = \"relu\"),  \n",
    "#     tf.keras.layers.MaxPooling1D(2),\n",
    "#     tf.keras.layers.Flatten(), \n",
    "#     tf.keras.layers.Dense(550,activation=\"relu\"),      #Adding the Hidden layer\n",
    "#     tf.keras.layers.Dropout(0.1,seed = 2019),\n",
    "#     tf.keras.layers.Dense(400,activation =\"relu\"),\n",
    "# #     tf.keras.layers.Dropout(0.3,seed = 2019),\n",
    "# #     tf.keras.layers.Dense(300,activation=\"relu\"),\n",
    "# #     tf.keras.layers.Dropout(0.4,seed = 2019),\n",
    "# #     tf.keras.layers.Dense(200,activation =\"relu\"),\n",
    "# #     tf.keras.layers.Dropout(0.2,seed = 2019),\n",
    "#     tf.keras.layers.Dense(4,activation = \"softmax\")   #Adding the Output Layer\n",
    "# ])"
   ]
  },
  {
   "cell_type": "markdown",
   "metadata": {},
   "source": [
    "#### Compile the model"
   ]
  },
  {
   "cell_type": "code",
   "execution_count": 99,
   "metadata": {},
   "outputs": [],
   "source": [
    "# Compile the model\n",
    "model.compile(loss='categorical_crossentropy', metrics=['accuracy'], optimizer='adam')"
   ]
  },
  {
   "cell_type": "code",
   "execution_count": 101,
   "metadata": {},
   "outputs": [
    {
     "ename": "ValueError",
     "evalue": "Input 0 of layer \"lstm_4\" is incompatible with the layer: expected ndim=3, found ndim=1. Full shape received: (40,)",
     "output_type": "error",
     "traceback": [
      "\u001b[0;31m---------------------------------------------------------------------------\u001b[0m",
      "\u001b[0;31mValueError\u001b[0m                                Traceback (most recent call last)",
      "\u001b[0;32m/var/folders/gd/pxcx2w0x59j2bsjbzhy62nvw0000gn/T/ipykernel_19327/2061826601.py\u001b[0m in \u001b[0;36m<module>\u001b[0;34m\u001b[0m\n\u001b[1;32m      1\u001b[0m \u001b[0;31m# Display model architecture summary\u001b[0m\u001b[0;34m\u001b[0m\u001b[0;34m\u001b[0m\u001b[0;34m\u001b[0m\u001b[0m\n\u001b[0;32m----> 2\u001b[0;31m \u001b[0mmodel\u001b[0m\u001b[0;34m.\u001b[0m\u001b[0mbuild\u001b[0m\u001b[0;34m(\u001b[0m\u001b[0minput_shape\u001b[0m\u001b[0;34m=\u001b[0m\u001b[0;34m(\u001b[0m\u001b[0;36m40\u001b[0m\u001b[0;34m,\u001b[0m\u001b[0;34m)\u001b[0m\u001b[0;34m)\u001b[0m\u001b[0;34m\u001b[0m\u001b[0;34m\u001b[0m\u001b[0m\n\u001b[0m\u001b[1;32m      3\u001b[0m \u001b[0mmodel\u001b[0m\u001b[0;34m.\u001b[0m\u001b[0msummary\u001b[0m\u001b[0;34m(\u001b[0m\u001b[0;34m)\u001b[0m\u001b[0;34m\u001b[0m\u001b[0;34m\u001b[0m\u001b[0m\n\u001b[1;32m      4\u001b[0m \u001b[0;34m\u001b[0m\u001b[0m\n\u001b[1;32m      5\u001b[0m \u001b[0;31m# Calculate pre-training accuracy\u001b[0m\u001b[0;34m\u001b[0m\u001b[0;34m\u001b[0m\u001b[0;34m\u001b[0m\u001b[0m\n",
      "\u001b[0;32m~/miniconda3/lib/python3.9/site-packages/keras/engine/sequential.py\u001b[0m in \u001b[0;36mbuild\u001b[0;34m(self, input_shape)\u001b[0m\n\u001b[1;32m    347\u001b[0m         \u001b[0minput_shape\u001b[0m \u001b[0;34m=\u001b[0m \u001b[0mtuple\u001b[0m\u001b[0;34m(\u001b[0m\u001b[0minput_shape\u001b[0m\u001b[0;34m)\u001b[0m\u001b[0;34m\u001b[0m\u001b[0;34m\u001b[0m\u001b[0m\n\u001b[1;32m    348\u001b[0m         \u001b[0mself\u001b[0m\u001b[0;34m.\u001b[0m\u001b[0m_build_input_shape\u001b[0m \u001b[0;34m=\u001b[0m \u001b[0minput_shape\u001b[0m\u001b[0;34m\u001b[0m\u001b[0;34m\u001b[0m\u001b[0m\n\u001b[0;32m--> 349\u001b[0;31m         \u001b[0msuper\u001b[0m\u001b[0;34m(\u001b[0m\u001b[0mSequential\u001b[0m\u001b[0;34m,\u001b[0m \u001b[0mself\u001b[0m\u001b[0;34m)\u001b[0m\u001b[0;34m.\u001b[0m\u001b[0mbuild\u001b[0m\u001b[0;34m(\u001b[0m\u001b[0minput_shape\u001b[0m\u001b[0;34m)\u001b[0m\u001b[0;34m\u001b[0m\u001b[0;34m\u001b[0m\u001b[0m\n\u001b[0m\u001b[1;32m    350\u001b[0m     \u001b[0mself\u001b[0m\u001b[0;34m.\u001b[0m\u001b[0mbuilt\u001b[0m \u001b[0;34m=\u001b[0m \u001b[0;32mTrue\u001b[0m\u001b[0;34m\u001b[0m\u001b[0;34m\u001b[0m\u001b[0m\n\u001b[1;32m    351\u001b[0m \u001b[0;34m\u001b[0m\u001b[0m\n",
      "\u001b[0;32m~/miniconda3/lib/python3.9/site-packages/keras/engine/training.py\u001b[0m in \u001b[0;36mbuild\u001b[0;34m(self, input_shape)\u001b[0m\n\u001b[1;32m    438\u001b[0m               'method accepts an `inputs` argument.')\n\u001b[1;32m    439\u001b[0m         \u001b[0;32mtry\u001b[0m\u001b[0;34m:\u001b[0m\u001b[0;34m\u001b[0m\u001b[0;34m\u001b[0m\u001b[0m\n\u001b[0;32m--> 440\u001b[0;31m           \u001b[0mself\u001b[0m\u001b[0;34m.\u001b[0m\u001b[0mcall\u001b[0m\u001b[0;34m(\u001b[0m\u001b[0mx\u001b[0m\u001b[0;34m,\u001b[0m \u001b[0;34m**\u001b[0m\u001b[0mkwargs\u001b[0m\u001b[0;34m)\u001b[0m\u001b[0;34m\u001b[0m\u001b[0;34m\u001b[0m\u001b[0m\n\u001b[0m\u001b[1;32m    441\u001b[0m         \u001b[0;32mexcept\u001b[0m \u001b[0;34m(\u001b[0m\u001b[0mtf\u001b[0m\u001b[0;34m.\u001b[0m\u001b[0merrors\u001b[0m\u001b[0;34m.\u001b[0m\u001b[0mInvalidArgumentError\u001b[0m\u001b[0;34m,\u001b[0m \u001b[0mTypeError\u001b[0m\u001b[0;34m)\u001b[0m \u001b[0;32mas\u001b[0m \u001b[0me\u001b[0m\u001b[0;34m:\u001b[0m\u001b[0;34m\u001b[0m\u001b[0;34m\u001b[0m\u001b[0m\n\u001b[1;32m    442\u001b[0m           raise ValueError('You cannot build your model by calling `build` '\n",
      "\u001b[0;32m~/miniconda3/lib/python3.9/site-packages/keras/engine/sequential.py\u001b[0m in \u001b[0;36mcall\u001b[0;34m(self, inputs, training, mask)\u001b[0m\n\u001b[1;32m    385\u001b[0m         \u001b[0mkwargs\u001b[0m\u001b[0;34m[\u001b[0m\u001b[0;34m'training'\u001b[0m\u001b[0;34m]\u001b[0m \u001b[0;34m=\u001b[0m \u001b[0mtraining\u001b[0m\u001b[0;34m\u001b[0m\u001b[0;34m\u001b[0m\u001b[0m\n\u001b[1;32m    386\u001b[0m \u001b[0;34m\u001b[0m\u001b[0m\n\u001b[0;32m--> 387\u001b[0;31m       \u001b[0moutputs\u001b[0m \u001b[0;34m=\u001b[0m \u001b[0mlayer\u001b[0m\u001b[0;34m(\u001b[0m\u001b[0minputs\u001b[0m\u001b[0;34m,\u001b[0m \u001b[0;34m**\u001b[0m\u001b[0mkwargs\u001b[0m\u001b[0;34m)\u001b[0m\u001b[0;34m\u001b[0m\u001b[0;34m\u001b[0m\u001b[0m\n\u001b[0m\u001b[1;32m    388\u001b[0m \u001b[0;34m\u001b[0m\u001b[0m\n\u001b[1;32m    389\u001b[0m       \u001b[0;32mif\u001b[0m \u001b[0mlen\u001b[0m\u001b[0;34m(\u001b[0m\u001b[0mtf\u001b[0m\u001b[0;34m.\u001b[0m\u001b[0mnest\u001b[0m\u001b[0;34m.\u001b[0m\u001b[0mflatten\u001b[0m\u001b[0;34m(\u001b[0m\u001b[0moutputs\u001b[0m\u001b[0;34m)\u001b[0m\u001b[0;34m)\u001b[0m \u001b[0;34m!=\u001b[0m \u001b[0;36m1\u001b[0m\u001b[0;34m:\u001b[0m\u001b[0;34m\u001b[0m\u001b[0;34m\u001b[0m\u001b[0m\n",
      "\u001b[0;32m~/miniconda3/lib/python3.9/site-packages/keras/layers/recurrent.py\u001b[0m in \u001b[0;36m__call__\u001b[0;34m(self, inputs, initial_state, constants, **kwargs)\u001b[0m\n\u001b[1;32m    677\u001b[0m \u001b[0;34m\u001b[0m\u001b[0m\n\u001b[1;32m    678\u001b[0m     \u001b[0;32mif\u001b[0m \u001b[0minitial_state\u001b[0m \u001b[0;32mis\u001b[0m \u001b[0;32mNone\u001b[0m \u001b[0;32mand\u001b[0m \u001b[0mconstants\u001b[0m \u001b[0;32mis\u001b[0m \u001b[0;32mNone\u001b[0m\u001b[0;34m:\u001b[0m\u001b[0;34m\u001b[0m\u001b[0;34m\u001b[0m\u001b[0m\n\u001b[0;32m--> 679\u001b[0;31m       \u001b[0;32mreturn\u001b[0m \u001b[0msuper\u001b[0m\u001b[0;34m(\u001b[0m\u001b[0mRNN\u001b[0m\u001b[0;34m,\u001b[0m \u001b[0mself\u001b[0m\u001b[0;34m)\u001b[0m\u001b[0;34m.\u001b[0m\u001b[0m__call__\u001b[0m\u001b[0;34m(\u001b[0m\u001b[0minputs\u001b[0m\u001b[0;34m,\u001b[0m \u001b[0;34m**\u001b[0m\u001b[0mkwargs\u001b[0m\u001b[0;34m)\u001b[0m\u001b[0;34m\u001b[0m\u001b[0;34m\u001b[0m\u001b[0m\n\u001b[0m\u001b[1;32m    680\u001b[0m \u001b[0;34m\u001b[0m\u001b[0m\n\u001b[1;32m    681\u001b[0m     \u001b[0;31m# If any of `initial_state` or `constants` are specified and are Keras\u001b[0m\u001b[0;34m\u001b[0m\u001b[0;34m\u001b[0m\u001b[0;34m\u001b[0m\u001b[0m\n",
      "\u001b[0;32m~/miniconda3/lib/python3.9/site-packages/keras/utils/traceback_utils.py\u001b[0m in \u001b[0;36merror_handler\u001b[0;34m(*args, **kwargs)\u001b[0m\n\u001b[1;32m     65\u001b[0m     \u001b[0;32mexcept\u001b[0m \u001b[0mException\u001b[0m \u001b[0;32mas\u001b[0m \u001b[0me\u001b[0m\u001b[0;34m:\u001b[0m  \u001b[0;31m# pylint: disable=broad-except\u001b[0m\u001b[0;34m\u001b[0m\u001b[0;34m\u001b[0m\u001b[0m\n\u001b[1;32m     66\u001b[0m       \u001b[0mfiltered_tb\u001b[0m \u001b[0;34m=\u001b[0m \u001b[0m_process_traceback_frames\u001b[0m\u001b[0;34m(\u001b[0m\u001b[0me\u001b[0m\u001b[0;34m.\u001b[0m\u001b[0m__traceback__\u001b[0m\u001b[0;34m)\u001b[0m\u001b[0;34m\u001b[0m\u001b[0;34m\u001b[0m\u001b[0m\n\u001b[0;32m---> 67\u001b[0;31m       \u001b[0;32mraise\u001b[0m \u001b[0me\u001b[0m\u001b[0;34m.\u001b[0m\u001b[0mwith_traceback\u001b[0m\u001b[0;34m(\u001b[0m\u001b[0mfiltered_tb\u001b[0m\u001b[0;34m)\u001b[0m \u001b[0;32mfrom\u001b[0m \u001b[0;32mNone\u001b[0m\u001b[0;34m\u001b[0m\u001b[0;34m\u001b[0m\u001b[0m\n\u001b[0m\u001b[1;32m     68\u001b[0m     \u001b[0;32mfinally\u001b[0m\u001b[0;34m:\u001b[0m\u001b[0;34m\u001b[0m\u001b[0;34m\u001b[0m\u001b[0m\n\u001b[1;32m     69\u001b[0m       \u001b[0;32mdel\u001b[0m \u001b[0mfiltered_tb\u001b[0m\u001b[0;34m\u001b[0m\u001b[0;34m\u001b[0m\u001b[0m\n",
      "\u001b[0;32m~/miniconda3/lib/python3.9/site-packages/keras/engine/input_spec.py\u001b[0m in \u001b[0;36massert_input_compatibility\u001b[0;34m(input_spec, inputs, layer_name)\u001b[0m\n\u001b[1;32m    211\u001b[0m       \u001b[0mndim\u001b[0m \u001b[0;34m=\u001b[0m \u001b[0mshape\u001b[0m\u001b[0;34m.\u001b[0m\u001b[0mrank\u001b[0m\u001b[0;34m\u001b[0m\u001b[0;34m\u001b[0m\u001b[0m\n\u001b[1;32m    212\u001b[0m       \u001b[0;32mif\u001b[0m \u001b[0mndim\u001b[0m \u001b[0;34m!=\u001b[0m \u001b[0mspec\u001b[0m\u001b[0;34m.\u001b[0m\u001b[0mndim\u001b[0m\u001b[0;34m:\u001b[0m\u001b[0;34m\u001b[0m\u001b[0;34m\u001b[0m\u001b[0m\n\u001b[0;32m--> 213\u001b[0;31m         raise ValueError(f'Input {input_index} of layer \"{layer_name}\" '\n\u001b[0m\u001b[1;32m    214\u001b[0m                          \u001b[0;34m'is incompatible with the layer: '\u001b[0m\u001b[0;34m\u001b[0m\u001b[0;34m\u001b[0m\u001b[0m\n\u001b[1;32m    215\u001b[0m                          \u001b[0;34mf'expected ndim={spec.ndim}, found ndim={ndim}. '\u001b[0m\u001b[0;34m\u001b[0m\u001b[0;34m\u001b[0m\u001b[0m\n",
      "\u001b[0;31mValueError\u001b[0m: Input 0 of layer \"lstm_4\" is incompatible with the layer: expected ndim=3, found ndim=1. Full shape received: (40,)"
     ]
    }
   ],
   "source": [
    "# Display model architecture summary \n",
    "model.build(input_shape=(40,))\n",
    "model.summary()\n",
    "\n",
    "# Calculate pre-training accuracy \n",
    "score = model.evaluate(x_test, y_test, verbose=0)\n",
    "accuracy = 100*score[1]\n",
    "\n",
    "print(\"Pre-training accuracy: %.4f%%\" % accuracy)"
   ]
  },
  {
   "cell_type": "markdown",
   "metadata": {},
   "source": [
    "#### Training"
   ]
  },
  {
   "cell_type": "code",
   "execution_count": 86,
   "metadata": {
    "scrolled": true
   },
   "outputs": [
    {
     "ename": "AttributeError",
     "evalue": "'LSTM' object has no attribute 'fit'",
     "output_type": "error",
     "traceback": [
      "\u001b[0;31m---------------------------------------------------------------------------\u001b[0m",
      "\u001b[0;31mAttributeError\u001b[0m                            Traceback (most recent call last)",
      "\u001b[0;32m/var/folders/gd/pxcx2w0x59j2bsjbzhy62nvw0000gn/T/ipykernel_19327/3368821963.py\u001b[0m in \u001b[0;36m<module>\u001b[0;34m\u001b[0m\n\u001b[1;32m      9\u001b[0m \u001b[0mstart\u001b[0m \u001b[0;34m=\u001b[0m \u001b[0mdatetime\u001b[0m\u001b[0;34m.\u001b[0m\u001b[0mnow\u001b[0m\u001b[0;34m(\u001b[0m\u001b[0;34m)\u001b[0m\u001b[0;34m\u001b[0m\u001b[0;34m\u001b[0m\u001b[0m\n\u001b[1;32m     10\u001b[0m \u001b[0;34m\u001b[0m\u001b[0m\n\u001b[0;32m---> 11\u001b[0;31m \u001b[0mmodel\u001b[0m\u001b[0;34m.\u001b[0m\u001b[0mfit\u001b[0m\u001b[0;34m(\u001b[0m\u001b[0mx_train\u001b[0m\u001b[0;34m,\u001b[0m \u001b[0my_train\u001b[0m\u001b[0;34m,\u001b[0m \u001b[0mbatch_size\u001b[0m\u001b[0;34m=\u001b[0m\u001b[0mnum_batch_size\u001b[0m\u001b[0;34m,\u001b[0m \u001b[0mepochs\u001b[0m\u001b[0;34m=\u001b[0m\u001b[0mnum_epochs\u001b[0m\u001b[0;34m,\u001b[0m \u001b[0mvalidation_data\u001b[0m\u001b[0;34m=\u001b[0m\u001b[0;34m(\u001b[0m\u001b[0mx_test\u001b[0m\u001b[0;34m,\u001b[0m \u001b[0my_test\u001b[0m\u001b[0;34m)\u001b[0m\u001b[0;34m,\u001b[0m \u001b[0mcallbacks\u001b[0m\u001b[0;34m=\u001b[0m\u001b[0;34m[\u001b[0m\u001b[0mcheckpointer\u001b[0m\u001b[0;34m]\u001b[0m\u001b[0;34m,\u001b[0m \u001b[0mverbose\u001b[0m\u001b[0;34m=\u001b[0m\u001b[0;36m1\u001b[0m\u001b[0;34m)\u001b[0m\u001b[0;34m\u001b[0m\u001b[0;34m\u001b[0m\u001b[0m\n\u001b[0m\u001b[1;32m     12\u001b[0m \u001b[0;34m\u001b[0m\u001b[0m\n\u001b[1;32m     13\u001b[0m \u001b[0mduration\u001b[0m \u001b[0;34m=\u001b[0m \u001b[0mdatetime\u001b[0m\u001b[0;34m.\u001b[0m\u001b[0mnow\u001b[0m\u001b[0;34m(\u001b[0m\u001b[0;34m)\u001b[0m \u001b[0;34m-\u001b[0m \u001b[0mstart\u001b[0m\u001b[0;34m\u001b[0m\u001b[0;34m\u001b[0m\u001b[0m\n",
      "\u001b[0;31mAttributeError\u001b[0m: 'LSTM' object has no attribute 'fit'"
     ]
    }
   ],
   "source": [
    "from keras.callbacks import ModelCheckpoint\n",
    "from datetime import datetime\n",
    "\n",
    "num_epochs = 75\n",
    "num_batch_size = 32\n",
    "\n",
    "checkpointer = ModelCheckpoint(filepath='model/weights.hdf5',\n",
    "                               verbose=1, save_best_only=True)\n",
    "start = datetime.now()\n",
    "\n",
    "model.fit(x_train, y_train, batch_size=num_batch_size, epochs=num_epochs, validation_data=(x_test, y_test), callbacks=[checkpointer], verbose=1)\n",
    "\n",
    "duration = datetime.now() - start\n",
    "print(\"Training completed in time: \", duration)"
   ]
  },
  {
   "cell_type": "markdown",
   "metadata": {},
   "source": [
    "#### Test the model"
   ]
  },
  {
   "cell_type": "code",
   "execution_count": 72,
   "metadata": {},
   "outputs": [
    {
     "name": "stdout",
     "output_type": "stream",
     "text": [
      "Training Accuracy:  1.0\n",
      "Testing Accuracy:  0.5454545617103577\n"
     ]
    }
   ],
   "source": [
    "# Evaluating the model on the training and testing set\n",
    "score = model.evaluate(x_train, y_train, verbose=0)\n",
    "print(\"Training Accuracy: \", score[1])\n",
    "\n",
    "score = model.evaluate(x_test, y_test, verbose=0)\n",
    "print(\"Testing Accuracy: \", score[1])"
   ]
  },
  {
   "cell_type": "markdown",
   "metadata": {},
   "source": [
    "#### Predictions"
   ]
  },
  {
   "cell_type": "code",
   "execution_count": null,
   "metadata": {},
   "outputs": [],
   "source": [
    "import librosa\n",
    "import numpy as np\n",
    "\n",
    "def extract_feature(file_name):\n",
    "   \n",
    "    try:\n",
    "        audio_data, sample_rate = librosa.load(file_name, res_type='kaiser_fast')\n",
    "        mfccs = librosa.feature.mfcc(y=audio_data, sr=sample_rate, n_mfcc=40)\n",
    "        mfccsscaled = np.mean(mfccs.T,axis=0)\n",
    "        \n",
    "    except Exception as e:\n",
    "        print(\"Error encountered while parsing file: \", file)\n",
    "        return None, None\n",
    "\n",
    "    return np.array([mfccsscaled])\n",
    "\n",
    "def print_prediction(file_name):\n",
    "    prediction_feature = extract_feature(file_name)\n",
    "\n",
    "    predicted_vector = model.predict(prediction_feature)\n",
    "    predicted_vector = np.argmax(predicted_vector, axis = 1)\n",
    "    predicted_class = le.inverse_transform(predicted_vector)\n",
    "    print(\"The predicted class is:\", predicted_class[0], '\\n')\n",
    "\n",
    "    '''\n",
    "    predicted_proba_vector = model.predict_proba(prediction_feature)\n",
    "    predicted_proba = predicted_proba_vector[0]\n",
    "    for i in range(len(predicted_proba)):\n",
    "        category = le.inverse_transform(np.array([i]))\n",
    "        print(category[0], \"\\t\\t : \", format(predicted_proba[i], '.32f'))\n",
    "    \n",
    "    \n",
    "    '''"
   ]
  },
  {
   "cell_type": "markdown",
   "metadata": {},
   "source": [
    "#### Validation"
   ]
  },
  {
   "cell_type": "code",
   "execution_count": null,
   "metadata": {},
   "outputs": [],
   "source": [
    "# Class: Dog Bark\n",
    "\n",
    "#filename = './model/7061-6-0-0.wav'\n",
    "\n",
    "#print_prediction(filename)\n",
    "\n",
    "filename = 'sample.wav'\n",
    "\n",
    "#print_prediction(filename)\n",
    "\n",
    "filename = './model/labrador-barking-daniel_simon.wav'\n",
    "#print_prediction(filename)\n",
    "\n",
    "\n",
    "filename = './model/Bark_1.m4a'\n",
    "print_prediction(filename)\n",
    "\n",
    "\n",
    "#https://console.firebase.google.com/u/0/project/woof-91636/firestore/data/~2F\n",
    "\n"
   ]
  },
  {
   "cell_type": "code",
   "execution_count": null,
   "metadata": {},
   "outputs": [],
   "source": [
    "model_file_name = \"local-dog-bark-detection-model\"\n",
    "\n",
    "import joblib"
   ]
  },
  {
   "cell_type": "code",
   "execution_count": null,
   "metadata": {},
   "outputs": [],
   "source": [
    "joblib.dump(model, model_file_name)"
   ]
  },
  {
   "cell_type": "code",
   "execution_count": null,
   "metadata": {},
   "outputs": [],
   "source": [
    "model2 = joblib.load(model_file_name)"
   ]
  },
  {
   "cell_type": "code",
   "execution_count": null,
   "metadata": {},
   "outputs": [],
   "source": [
    "def print_prediction2(file_name):\n",
    "    prediction_feature = extract_feature(file_name)\n",
    "\n",
    "    predicted_vector = model2.predict(prediction_feature)\n",
    "    predicted_vector = np.argmax(predicted_vector, axis = 1)\n",
    "    predicted_class = le.inverse_transform(predicted_vector)\n",
    "    print(\"The predicted class is:\", predicted_class[0], '\\n')"
   ]
  },
  {
   "cell_type": "code",
   "execution_count": null,
   "metadata": {},
   "outputs": [],
   "source": [
    "filename = './model/7061-6-0-0.wav'\n",
    "\n",
    "print_prediction2(filename)\n",
    "\n",
    "filename = './model/mixkit-annoyed-big-dog-barking-51.wav'\n",
    "\n",
    "print_prediction2(filename)"
   ]
  },
  {
   "cell_type": "code",
   "execution_count": null,
   "metadata": {},
   "outputs": [],
   "source": [
    "model.save('model/model')"
   ]
  },
  {
   "cell_type": "code",
   "execution_count": null,
   "metadata": {},
   "outputs": [],
   "source": []
  }
 ],
 "metadata": {
  "kernelspec": {
   "display_name": "Python 3 (ipykernel)",
   "language": "python",
   "name": "python3"
  },
  "language_info": {
   "codemirror_mode": {
    "name": "ipython",
    "version": 3
   },
   "file_extension": ".py",
   "mimetype": "text/x-python",
   "name": "python",
   "nbconvert_exporter": "python",
   "pygments_lexer": "ipython3",
   "version": "3.9.12"
  }
 },
 "nbformat": 4,
 "nbformat_minor": 4
}
